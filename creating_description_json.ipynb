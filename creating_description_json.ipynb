{
 "cells": [
  {
   "cell_type": "code",
   "execution_count": 7,
   "id": "initial_id",
   "metadata": {
    "ExecuteTime": {
     "end_time": "2024-03-22T06:37:15.122453700Z",
     "start_time": "2024-03-22T06:37:15.031182800Z"
    },
    "collapsed": true
   },
   "outputs": [],
   "source": [
    "import json\n",
    "import pandas as pd"
   ]
  },
  {
   "cell_type": "code",
   "execution_count": 8,
   "id": "49083328c610a925",
   "metadata": {
    "ExecuteTime": {
     "end_time": "2024-03-22T06:37:15.402265900Z",
     "start_time": "2024-03-22T06:37:15.048137500Z"
    },
    "collapsed": false
   },
   "outputs": [
    {
     "data": {
      "text/html": [
       "<div>\n",
       "<style scoped>\n",
       "    .dataframe tbody tr th:only-of-type {\n",
       "        vertical-align: middle;\n",
       "    }\n",
       "\n",
       "    .dataframe tbody tr th {\n",
       "        vertical-align: top;\n",
       "    }\n",
       "\n",
       "    .dataframe thead th {\n",
       "        text-align: right;\n",
       "    }\n",
       "</style>\n",
       "<table border=\"1\" class=\"dataframe\">\n",
       "  <thead>\n",
       "    <tr style=\"text-align: right;\">\n",
       "      <th></th>\n",
       "      <th>imdb_title_id</th>\n",
       "      <th>title</th>\n",
       "      <th>original_title</th>\n",
       "      <th>year</th>\n",
       "      <th>date_published</th>\n",
       "      <th>genre</th>\n",
       "      <th>duration</th>\n",
       "      <th>country</th>\n",
       "      <th>language</th>\n",
       "      <th>director</th>\n",
       "      <th>...</th>\n",
       "      <th>History</th>\n",
       "      <th>Biography</th>\n",
       "      <th>Family</th>\n",
       "      <th>Mystery</th>\n",
       "      <th>Horror</th>\n",
       "      <th>Music</th>\n",
       "      <th>War</th>\n",
       "      <th>Sport</th>\n",
       "      <th>Sci-Fi</th>\n",
       "      <th>Animation</th>\n",
       "    </tr>\n",
       "  </thead>\n",
       "  <tbody>\n",
       "    <tr>\n",
       "      <th>0</th>\n",
       "      <td>tt0116391</td>\n",
       "      <td>Gang</td>\n",
       "      <td>Gang</td>\n",
       "      <td>2000</td>\n",
       "      <td>2000-04-21</td>\n",
       "      <td>Action, Crime, Drama</td>\n",
       "      <td>152</td>\n",
       "      <td>India</td>\n",
       "      <td>Hindi</td>\n",
       "      <td>Mazhar Khan</td>\n",
       "      <td>...</td>\n",
       "      <td>0</td>\n",
       "      <td>0</td>\n",
       "      <td>0</td>\n",
       "      <td>0</td>\n",
       "      <td>0</td>\n",
       "      <td>0</td>\n",
       "      <td>0</td>\n",
       "      <td>0</td>\n",
       "      <td>0</td>\n",
       "      <td>0</td>\n",
       "    </tr>\n",
       "    <tr>\n",
       "      <th>1</th>\n",
       "      <td>tt0116748</td>\n",
       "      <td>Karobaar: The Business of Love</td>\n",
       "      <td>Karobaar: The Business of Love</td>\n",
       "      <td>2000</td>\n",
       "      <td>2000-09-15</td>\n",
       "      <td>Drama, Romance</td>\n",
       "      <td>180</td>\n",
       "      <td>India</td>\n",
       "      <td>Hindi</td>\n",
       "      <td>Rakesh Roshan</td>\n",
       "      <td>...</td>\n",
       "      <td>0</td>\n",
       "      <td>0</td>\n",
       "      <td>0</td>\n",
       "      <td>0</td>\n",
       "      <td>0</td>\n",
       "      <td>0</td>\n",
       "      <td>0</td>\n",
       "      <td>0</td>\n",
       "      <td>0</td>\n",
       "      <td>0</td>\n",
       "    </tr>\n",
       "    <tr>\n",
       "      <th>2</th>\n",
       "      <td>tt0118578</td>\n",
       "      <td>Albela</td>\n",
       "      <td>Albela</td>\n",
       "      <td>2001</td>\n",
       "      <td>2001-04-20</td>\n",
       "      <td>Comedy, Drama, Romance</td>\n",
       "      <td>145</td>\n",
       "      <td>India</td>\n",
       "      <td>Hindi</td>\n",
       "      <td>Deepak Sareen</td>\n",
       "      <td>...</td>\n",
       "      <td>0</td>\n",
       "      <td>0</td>\n",
       "      <td>0</td>\n",
       "      <td>0</td>\n",
       "      <td>0</td>\n",
       "      <td>0</td>\n",
       "      <td>0</td>\n",
       "      <td>0</td>\n",
       "      <td>0</td>\n",
       "      <td>0</td>\n",
       "    </tr>\n",
       "    <tr>\n",
       "      <th>3</th>\n",
       "      <td>tt0120117</td>\n",
       "      <td>Shikari</td>\n",
       "      <td>Shikari</td>\n",
       "      <td>2000</td>\n",
       "      <td>2000-10-06</td>\n",
       "      <td>Crime, Drama, Thriller</td>\n",
       "      <td>160</td>\n",
       "      <td>India</td>\n",
       "      <td>Hindi</td>\n",
       "      <td>N. Chandra</td>\n",
       "      <td>...</td>\n",
       "      <td>0</td>\n",
       "      <td>0</td>\n",
       "      <td>0</td>\n",
       "      <td>0</td>\n",
       "      <td>0</td>\n",
       "      <td>0</td>\n",
       "      <td>0</td>\n",
       "      <td>0</td>\n",
       "      <td>0</td>\n",
       "      <td>0</td>\n",
       "    </tr>\n",
       "    <tr>\n",
       "      <th>4</th>\n",
       "      <td>tt0151150</td>\n",
       "      <td>Josh</td>\n",
       "      <td>Josh</td>\n",
       "      <td>2000</td>\n",
       "      <td>2000-06-09</td>\n",
       "      <td>Action, Drama, Musical</td>\n",
       "      <td>162</td>\n",
       "      <td>India</td>\n",
       "      <td>Hindi</td>\n",
       "      <td>Mansoor Khan</td>\n",
       "      <td>...</td>\n",
       "      <td>0</td>\n",
       "      <td>0</td>\n",
       "      <td>0</td>\n",
       "      <td>0</td>\n",
       "      <td>0</td>\n",
       "      <td>0</td>\n",
       "      <td>0</td>\n",
       "      <td>0</td>\n",
       "      <td>0</td>\n",
       "      <td>0</td>\n",
       "    </tr>\n",
       "    <tr>\n",
       "      <th>...</th>\n",
       "      <td>...</td>\n",
       "      <td>...</td>\n",
       "      <td>...</td>\n",
       "      <td>...</td>\n",
       "      <td>...</td>\n",
       "      <td>...</td>\n",
       "      <td>...</td>\n",
       "      <td>...</td>\n",
       "      <td>...</td>\n",
       "      <td>...</td>\n",
       "      <td>...</td>\n",
       "      <td>...</td>\n",
       "      <td>...</td>\n",
       "      <td>...</td>\n",
       "      <td>...</td>\n",
       "      <td>...</td>\n",
       "      <td>...</td>\n",
       "      <td>...</td>\n",
       "      <td>...</td>\n",
       "      <td>...</td>\n",
       "      <td>...</td>\n",
       "    </tr>\n",
       "    <tr>\n",
       "      <th>5171</th>\n",
       "      <td>tt9900782</td>\n",
       "      <td>Kaithi</td>\n",
       "      <td>Kaithi</td>\n",
       "      <td>2019</td>\n",
       "      <td>2019-10-25</td>\n",
       "      <td>Action, Thriller</td>\n",
       "      <td>145</td>\n",
       "      <td>India</td>\n",
       "      <td>Tamil</td>\n",
       "      <td>Lokesh Kanagaraj</td>\n",
       "      <td>...</td>\n",
       "      <td>0</td>\n",
       "      <td>0</td>\n",
       "      <td>0</td>\n",
       "      <td>0</td>\n",
       "      <td>0</td>\n",
       "      <td>0</td>\n",
       "      <td>0</td>\n",
       "      <td>0</td>\n",
       "      <td>0</td>\n",
       "      <td>0</td>\n",
       "    </tr>\n",
       "    <tr>\n",
       "      <th>5172</th>\n",
       "      <td>tt9903716</td>\n",
       "      <td>Jessie</td>\n",
       "      <td>Jessie</td>\n",
       "      <td>2019</td>\n",
       "      <td>2019-03-15</td>\n",
       "      <td>Horror, Thriller</td>\n",
       "      <td>106</td>\n",
       "      <td>India</td>\n",
       "      <td>Telugu</td>\n",
       "      <td>Aswani Kumar V.</td>\n",
       "      <td>...</td>\n",
       "      <td>0</td>\n",
       "      <td>0</td>\n",
       "      <td>0</td>\n",
       "      <td>0</td>\n",
       "      <td>1</td>\n",
       "      <td>0</td>\n",
       "      <td>0</td>\n",
       "      <td>0</td>\n",
       "      <td>0</td>\n",
       "      <td>0</td>\n",
       "    </tr>\n",
       "    <tr>\n",
       "      <th>5173</th>\n",
       "      <td>tt9905412</td>\n",
       "      <td>Ottam</td>\n",
       "      <td>Ottam</td>\n",
       "      <td>2019</td>\n",
       "      <td>2019-03-08</td>\n",
       "      <td>Drama</td>\n",
       "      <td>120</td>\n",
       "      <td>India</td>\n",
       "      <td>Malayalam</td>\n",
       "      <td>Zam</td>\n",
       "      <td>...</td>\n",
       "      <td>0</td>\n",
       "      <td>0</td>\n",
       "      <td>0</td>\n",
       "      <td>0</td>\n",
       "      <td>0</td>\n",
       "      <td>0</td>\n",
       "      <td>0</td>\n",
       "      <td>0</td>\n",
       "      <td>0</td>\n",
       "      <td>0</td>\n",
       "    </tr>\n",
       "    <tr>\n",
       "      <th>5174</th>\n",
       "      <td>tt9905462</td>\n",
       "      <td>Pengalila</td>\n",
       "      <td>Pengalila</td>\n",
       "      <td>2019</td>\n",
       "      <td>2019-03-08</td>\n",
       "      <td>Drama</td>\n",
       "      <td>111</td>\n",
       "      <td>India</td>\n",
       "      <td>Malayalam</td>\n",
       "      <td>T.V. Chandran</td>\n",
       "      <td>...</td>\n",
       "      <td>0</td>\n",
       "      <td>0</td>\n",
       "      <td>0</td>\n",
       "      <td>0</td>\n",
       "      <td>0</td>\n",
       "      <td>0</td>\n",
       "      <td>0</td>\n",
       "      <td>0</td>\n",
       "      <td>0</td>\n",
       "      <td>0</td>\n",
       "    </tr>\n",
       "    <tr>\n",
       "      <th>5175</th>\n",
       "      <td>tt9906644</td>\n",
       "      <td>Manoharam</td>\n",
       "      <td>Manoharam</td>\n",
       "      <td>2019</td>\n",
       "      <td>2019-09-27</td>\n",
       "      <td>Comedy, Drama</td>\n",
       "      <td>122</td>\n",
       "      <td>India</td>\n",
       "      <td>Malayalam</td>\n",
       "      <td>Anvar Sadik</td>\n",
       "      <td>...</td>\n",
       "      <td>0</td>\n",
       "      <td>0</td>\n",
       "      <td>0</td>\n",
       "      <td>0</td>\n",
       "      <td>0</td>\n",
       "      <td>0</td>\n",
       "      <td>0</td>\n",
       "      <td>0</td>\n",
       "      <td>0</td>\n",
       "      <td>0</td>\n",
       "    </tr>\n",
       "  </tbody>\n",
       "</table>\n",
       "<p>5176 rows × 42 columns</p>\n",
       "</div>"
      ],
      "text/plain": [
       "     imdb_title_id                           title  \\\n",
       "0        tt0116391                            Gang   \n",
       "1        tt0116748  Karobaar: The Business of Love   \n",
       "2        tt0118578                          Albela   \n",
       "3        tt0120117                         Shikari   \n",
       "4        tt0151150                            Josh   \n",
       "...            ...                             ...   \n",
       "5171     tt9900782                          Kaithi   \n",
       "5172     tt9903716                          Jessie   \n",
       "5173     tt9905412                           Ottam   \n",
       "5174     tt9905462                       Pengalila   \n",
       "5175     tt9906644                       Manoharam   \n",
       "\n",
       "                      original_title  year date_published  \\\n",
       "0                               Gang  2000     2000-04-21   \n",
       "1     Karobaar: The Business of Love  2000     2000-09-15   \n",
       "2                             Albela  2001     2001-04-20   \n",
       "3                            Shikari  2000     2000-10-06   \n",
       "4                               Josh  2000     2000-06-09   \n",
       "...                              ...   ...            ...   \n",
       "5171                          Kaithi  2019     2019-10-25   \n",
       "5172                          Jessie  2019     2019-03-15   \n",
       "5173                           Ottam  2019     2019-03-08   \n",
       "5174                       Pengalila  2019     2019-03-08   \n",
       "5175                       Manoharam  2019     2019-09-27   \n",
       "\n",
       "                       genre  duration country   language          director  \\\n",
       "0       Action, Crime, Drama       152   India      Hindi       Mazhar Khan   \n",
       "1             Drama, Romance       180   India      Hindi     Rakesh Roshan   \n",
       "2     Comedy, Drama, Romance       145   India      Hindi     Deepak Sareen   \n",
       "3     Crime, Drama, Thriller       160   India      Hindi        N. Chandra   \n",
       "4     Action, Drama, Musical       162   India      Hindi      Mansoor Khan   \n",
       "...                      ...       ...     ...        ...               ...   \n",
       "5171        Action, Thriller       145   India      Tamil  Lokesh Kanagaraj   \n",
       "5172        Horror, Thriller       106   India     Telugu   Aswani Kumar V.   \n",
       "5173                   Drama       120   India  Malayalam               Zam   \n",
       "5174                   Drama       111   India  Malayalam     T.V. Chandran   \n",
       "5175           Comedy, Drama       122   India  Malayalam       Anvar Sadik   \n",
       "\n",
       "      ... History Biography Family Mystery  Horror  Music War Sport Sci-Fi  \\\n",
       "0     ...       0         0      0       0       0      0   0     0      0   \n",
       "1     ...       0         0      0       0       0      0   0     0      0   \n",
       "2     ...       0         0      0       0       0      0   0     0      0   \n",
       "3     ...       0         0      0       0       0      0   0     0      0   \n",
       "4     ...       0         0      0       0       0      0   0     0      0   \n",
       "...   ...     ...       ...    ...     ...     ...    ...  ..   ...    ...   \n",
       "5171  ...       0         0      0       0       0      0   0     0      0   \n",
       "5172  ...       0         0      0       0       1      0   0     0      0   \n",
       "5173  ...       0         0      0       0       0      0   0     0      0   \n",
       "5174  ...       0         0      0       0       0      0   0     0      0   \n",
       "5175  ...       0         0      0       0       0      0   0     0      0   \n",
       "\n",
       "      Animation  \n",
       "0             0  \n",
       "1             0  \n",
       "2             0  \n",
       "3             0  \n",
       "4             0  \n",
       "...         ...  \n",
       "5171          0  \n",
       "5172          0  \n",
       "5173          0  \n",
       "5174          0  \n",
       "5175          0  \n",
       "\n",
       "[5176 rows x 42 columns]"
      ]
     },
     "execution_count": 8,
     "metadata": {},
     "output_type": "execute_result"
    }
   ],
   "source": [
    "indian_movies = pd.read_csv(\"dataset/indian_movies_dummy.csv\")\n",
    "indian_movies"
   ]
  },
  {
   "cell_type": "markdown",
   "id": "5a0a4c3d69d727c8",
   "metadata": {
    "collapsed": false
   },
   "source": [
    "Creating tfidf sparse matrix for the description"
   ]
  },
  {
   "cell_type": "code",
   "execution_count": 9,
   "id": "7fc63bdfa3afdf00",
   "metadata": {
    "ExecuteTime": {
     "end_time": "2024-03-22T06:37:26.612230600Z",
     "start_time": "2024-03-22T06:37:15.411242200Z"
    },
    "collapsed": false
   },
   "outputs": [
    {
     "data": {
      "text/plain": [
       "<5176x12274 sparse matrix of type '<class 'numpy.float64'>'\n",
       "\twith 113162 stored elements in Compressed Sparse Row format>"
      ]
     },
     "execution_count": 9,
     "metadata": {},
     "output_type": "execute_result"
    }
   ],
   "source": [
    "from sklearn.feature_extraction.text import TfidfVectorizer\n",
    "\n",
    "tfidf = TfidfVectorizer()\n",
    "description =  tfidf.fit_transform(indian_movies[\"description\"])\n",
    "description"
   ]
  },
  {
   "cell_type": "markdown",
   "id": "7e4db926f05657b3",
   "metadata": {
    "collapsed": false
   },
   "source": [
    "Converting the matirx to array"
   ]
  },
  {
   "cell_type": "code",
   "execution_count": 10,
   "id": "782115d8f53826c",
   "metadata": {
    "ExecuteTime": {
     "end_time": "2024-03-22T06:37:27.375691100Z",
     "start_time": "2024-03-22T06:37:26.608234900Z"
    },
    "collapsed": false
   },
   "outputs": [
    {
     "data": {
      "text/plain": [
       "(5176, 12274)"
      ]
     },
     "execution_count": 10,
     "metadata": {},
     "output_type": "execute_result"
    }
   ],
   "source": [
    "description =description.toarray()\n",
    "description.shape"
   ]
  },
  {
   "cell_type": "markdown",
   "id": "c16f18d6854f99b0",
   "metadata": {
    "collapsed": false
   },
   "source": [
    "AS there are 5176 rows as per the movies present and for each movie there are 12k columns for denoting the description"
   ]
  },
  {
   "cell_type": "markdown",
   "id": "1ef8acd000f8ff5e",
   "metadata": {
    "collapsed": false
   },
   "source": [
    "Storing these description array to dict where keys are title ids"
   ]
  },
  {
   "cell_type": "code",
   "execution_count": 11,
   "id": "3e40319bd41c97c3",
   "metadata": {
    "ExecuteTime": {
     "end_time": "2024-03-22T06:37:37.373486200Z",
     "start_time": "2024-03-22T06:37:27.456018800Z"
    },
    "collapsed": false
   },
   "outputs": [
    {
     "data": {
      "text/plain": [
       "5176"
      ]
     },
     "execution_count": 11,
     "metadata": {},
     "output_type": "execute_result"
    }
   ],
   "source": [
    "description_movie = {}\n",
    "for i in range(description.shape[0]):\n",
    "    title = indian_movies[\"imdb_title_id\"].iloc[i]\n",
    "    descriprion_list = description[i].tolist()\n",
    "    description_movie[title] = descriprion_list\n",
    "len(description_movie.keys())"
   ]
  },
  {
   "cell_type": "markdown",
   "id": "ef7023a0b5d8d65b",
   "metadata": {
    "collapsed": false
   },
   "source": [
    "Keys length and number of movies are same so dict is created properly"
   ]
  },
  {
   "cell_type": "markdown",
   "id": "3431586796807f29",
   "metadata": {
    "collapsed": false
   },
   "source": [
    "Now dumping this file to json file for recommendation purpose"
   ]
  },
  {
   "cell_type": "code",
   "execution_count": 12,
   "id": "3f68dccae4f2c6e0",
   "metadata": {
    "ExecuteTime": {
     "end_time": "2024-03-22T06:39:58.742185400Z",
     "start_time": "2024-03-22T06:37:37.369495500Z"
    },
    "collapsed": false
   },
   "outputs": [],
   "source": [
    "with open(\"description_movie.json\", \"w\") as dm:\n",
    "    json.dump(description_movie, dm)"
   ]
  },
  {
   "cell_type": "markdown",
   "id": "8f04faa698a3e303",
   "metadata": {
    "collapsed": false
   },
   "source": [
    "##### Recommendation functions file: [Recommendaion functions file](recommendation_functions.py)\n",
    "##### Recommendation execution file: [Recommendation execution ipynb file](recommend.ipynb) & [Recommendation execution html file](recommend.html)"
   ]
  }
 ],
 "metadata": {
  "kernelspec": {
   "display_name": "Python 3",
   "language": "python",
   "name": "python3"
  },
  "language_info": {
   "codemirror_mode": {
    "name": "ipython",
    "version": 2
   },
   "file_extension": ".py",
   "mimetype": "text/x-python",
   "name": "python",
   "nbconvert_exporter": "python",
   "pygments_lexer": "ipython2",
   "version": "2.7.6"
  }
 },
 "nbformat": 4,
 "nbformat_minor": 5
}
