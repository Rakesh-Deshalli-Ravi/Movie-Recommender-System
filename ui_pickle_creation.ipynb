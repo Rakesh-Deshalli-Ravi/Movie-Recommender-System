{
 "cells": [
  {
   "cell_type": "code",
   "execution_count": 1,
   "id": "initial_id",
   "metadata": {
    "jupyter": {
     "outputs_hidden": true
    },
    "tags": [],
    "ExecuteTime": {
     "end_time": "2024-03-22T07:45:47.348033100Z",
     "start_time": "2024-03-22T07:45:45.724418900Z"
    }
   },
   "outputs": [],
   "source": [
    "import pandas as pd\n",
    "import numpy as np\n",
    "import pickle"
   ]
  },
  {
   "cell_type": "code",
   "execution_count": 2,
   "id": "f3be313031377ad7",
   "metadata": {
    "tags": [],
    "ExecuteTime": {
     "end_time": "2024-03-22T07:45:47.913008Z",
     "start_time": "2024-03-22T07:45:47.351035100Z"
    }
   },
   "outputs": [
    {
     "data": {
      "text/plain": "      imdb_title_id                    title  year date_published  \\\n0         tt1014463  Kate & Leopold(English)  2001     2002-03-01   \n1         tt1896309   Kate & Leopold(French)  2001     2002-03-01   \n2         tt0081145           Harry e Carota  1993     1993-10-22   \n3         tt0088751        The Naked Monster  2005     2005-04-22   \n4         tt0094900                Committed  1991     1991-04-18   \n...             ...                      ...   ...            ...   \n23180     tt9900782                   Kaithi  2019     2019-10-25   \n23181     tt9903716                   Jessie  2019     2019-03-15   \n23182     tt9905412                    Ottam  2019     2019-03-08   \n23183     tt9905462                Pengalila  2019     2019-03-08   \n23184     tt9906644                Manoharam  2019     2019-09-27   \n\n                          genre   language country                   director  \\\n0      Comedy, Fantasy, Romance    English     USA              James Mangold   \n1      Comedy, Fantasy, Romance     French     USA              James Mangold   \n2          Comedy, Crime, Drama    English     USA                 Dan Curtis   \n3        Comedy, Horror, Sci-Fi    English     USA  Wayne Berwick, Ted Newsom   \n4               Drama, Thriller    English     USA           William A. Levey   \n...                         ...        ...     ...                        ...   \n23180          Action, Thriller      Tamil   India           Lokesh Kanagaraj   \n23181          Horror, Thriller     Telugu   India            Aswani Kumar V.   \n23182                     Drama  Malayalam   India                        Zam   \n23183                     Drama  Malayalam   India              T.V. Chandran   \n23184             Comedy, Drama  Malayalam   India                Anvar Sadik   \n\n                                  writer  \\\n0           Steven Rogers, James Mangold   \n1           Steven Rogers, James Mangold   \n2      Stanley Cohen, Richard Tannenbaum   \n3                             Ted Newsom   \n4              Susan Claudia, Simon Last   \n...                                  ...   \n23180    Lokesh Kanagaraj, Pon Parthiban   \n23181                    Aswani Kumar V.   \n23182                   Rajesh k Narayan   \n23183                      T.V. Chandran   \n23184                                NaN   \n\n                                                  actors  ... Adventure  \\\n0      Meg Ryan, Hugh Jackman, Liev Schreiber, Brecki...  ...         0   \n1      Meg Ryan, Hugh Jackman, Liev Schreiber, Brecki...  ...         0   \n2      Danny Aiello, Alex Zuckerman, Joe Pantoliano, ...  ...         0   \n3      Kenneth Tobey, Brinke Stevens, R.G. Wilson, Jo...  ...         0   \n4      Jennifer O'Neill, Robert Forster, William Wind...  ...         0   \n...                                                  ...  ...       ...   \n23180  Karthi, Narain, Ramana, George Maryan, Harish ...  ...         0   \n23181  Ashima Narwal, Sritha Chandana, Atul Kulkarni,...  ...         0   \n23182  Nandu Anand, Roshan Ullas, Manikandan R. Achar...  ...         0   \n23183  Lal, Akshara Kishor, Iniya, Narain, Renji Pani...  ...         0   \n23184  Vineeth Sreenivasan, Aparna Das, Basil Joseph,...  ...         0   \n\n      Family  War  Biography  Musical  Sport  Animation  History  News  \\\n0          0    0          0        0      0          0        0     0   \n1          0    0          0        0      0          0        0     0   \n2          0    0          0        0      0          0        0     0   \n3          0    0          0        0      0          0        0     0   \n4          0    0          0        0      0          0        0     0   \n...      ...  ...        ...      ...    ...        ...      ...   ...   \n23180      0    0          0        0      0          0        0     0   \n23181      0    0          0        0      0          0        0     0   \n23182      0    0          0        0      0          0        0     0   \n23183      0    0          0        0      0          0        0     0   \n23184      0    0          0        0      0          0        0     0   \n\n       Reality-TV  \n0               0  \n1               0  \n2               0  \n3               0  \n4               0  \n...           ...  \n23180           0  \n23181           0  \n23182           0  \n23183           0  \n23184           0  \n\n[23185 rows x 35 columns]",
      "text/html": "<div>\n<style scoped>\n    .dataframe tbody tr th:only-of-type {\n        vertical-align: middle;\n    }\n\n    .dataframe tbody tr th {\n        vertical-align: top;\n    }\n\n    .dataframe thead th {\n        text-align: right;\n    }\n</style>\n<table border=\"1\" class=\"dataframe\">\n  <thead>\n    <tr style=\"text-align: right;\">\n      <th></th>\n      <th>imdb_title_id</th>\n      <th>title</th>\n      <th>year</th>\n      <th>date_published</th>\n      <th>genre</th>\n      <th>language</th>\n      <th>country</th>\n      <th>director</th>\n      <th>writer</th>\n      <th>actors</th>\n      <th>...</th>\n      <th>Adventure</th>\n      <th>Family</th>\n      <th>War</th>\n      <th>Biography</th>\n      <th>Musical</th>\n      <th>Sport</th>\n      <th>Animation</th>\n      <th>History</th>\n      <th>News</th>\n      <th>Reality-TV</th>\n    </tr>\n  </thead>\n  <tbody>\n    <tr>\n      <th>0</th>\n      <td>tt1014463</td>\n      <td>Kate &amp; Leopold(English)</td>\n      <td>2001</td>\n      <td>2002-03-01</td>\n      <td>Comedy, Fantasy, Romance</td>\n      <td>English</td>\n      <td>USA</td>\n      <td>James Mangold</td>\n      <td>Steven Rogers, James Mangold</td>\n      <td>Meg Ryan, Hugh Jackman, Liev Schreiber, Brecki...</td>\n      <td>...</td>\n      <td>0</td>\n      <td>0</td>\n      <td>0</td>\n      <td>0</td>\n      <td>0</td>\n      <td>0</td>\n      <td>0</td>\n      <td>0</td>\n      <td>0</td>\n      <td>0</td>\n    </tr>\n    <tr>\n      <th>1</th>\n      <td>tt1896309</td>\n      <td>Kate &amp; Leopold(French)</td>\n      <td>2001</td>\n      <td>2002-03-01</td>\n      <td>Comedy, Fantasy, Romance</td>\n      <td>French</td>\n      <td>USA</td>\n      <td>James Mangold</td>\n      <td>Steven Rogers, James Mangold</td>\n      <td>Meg Ryan, Hugh Jackman, Liev Schreiber, Brecki...</td>\n      <td>...</td>\n      <td>0</td>\n      <td>0</td>\n      <td>0</td>\n      <td>0</td>\n      <td>0</td>\n      <td>0</td>\n      <td>0</td>\n      <td>0</td>\n      <td>0</td>\n      <td>0</td>\n    </tr>\n    <tr>\n      <th>2</th>\n      <td>tt0081145</td>\n      <td>Harry e Carota</td>\n      <td>1993</td>\n      <td>1993-10-22</td>\n      <td>Comedy, Crime, Drama</td>\n      <td>English</td>\n      <td>USA</td>\n      <td>Dan Curtis</td>\n      <td>Stanley Cohen, Richard Tannenbaum</td>\n      <td>Danny Aiello, Alex Zuckerman, Joe Pantoliano, ...</td>\n      <td>...</td>\n      <td>0</td>\n      <td>0</td>\n      <td>0</td>\n      <td>0</td>\n      <td>0</td>\n      <td>0</td>\n      <td>0</td>\n      <td>0</td>\n      <td>0</td>\n      <td>0</td>\n    </tr>\n    <tr>\n      <th>3</th>\n      <td>tt0088751</td>\n      <td>The Naked Monster</td>\n      <td>2005</td>\n      <td>2005-04-22</td>\n      <td>Comedy, Horror, Sci-Fi</td>\n      <td>English</td>\n      <td>USA</td>\n      <td>Wayne Berwick, Ted Newsom</td>\n      <td>Ted Newsom</td>\n      <td>Kenneth Tobey, Brinke Stevens, R.G. Wilson, Jo...</td>\n      <td>...</td>\n      <td>0</td>\n      <td>0</td>\n      <td>0</td>\n      <td>0</td>\n      <td>0</td>\n      <td>0</td>\n      <td>0</td>\n      <td>0</td>\n      <td>0</td>\n      <td>0</td>\n    </tr>\n    <tr>\n      <th>4</th>\n      <td>tt0094900</td>\n      <td>Committed</td>\n      <td>1991</td>\n      <td>1991-04-18</td>\n      <td>Drama, Thriller</td>\n      <td>English</td>\n      <td>USA</td>\n      <td>William A. Levey</td>\n      <td>Susan Claudia, Simon Last</td>\n      <td>Jennifer O'Neill, Robert Forster, William Wind...</td>\n      <td>...</td>\n      <td>0</td>\n      <td>0</td>\n      <td>0</td>\n      <td>0</td>\n      <td>0</td>\n      <td>0</td>\n      <td>0</td>\n      <td>0</td>\n      <td>0</td>\n      <td>0</td>\n    </tr>\n    <tr>\n      <th>...</th>\n      <td>...</td>\n      <td>...</td>\n      <td>...</td>\n      <td>...</td>\n      <td>...</td>\n      <td>...</td>\n      <td>...</td>\n      <td>...</td>\n      <td>...</td>\n      <td>...</td>\n      <td>...</td>\n      <td>...</td>\n      <td>...</td>\n      <td>...</td>\n      <td>...</td>\n      <td>...</td>\n      <td>...</td>\n      <td>...</td>\n      <td>...</td>\n      <td>...</td>\n      <td>...</td>\n    </tr>\n    <tr>\n      <th>23180</th>\n      <td>tt9900782</td>\n      <td>Kaithi</td>\n      <td>2019</td>\n      <td>2019-10-25</td>\n      <td>Action, Thriller</td>\n      <td>Tamil</td>\n      <td>India</td>\n      <td>Lokesh Kanagaraj</td>\n      <td>Lokesh Kanagaraj, Pon Parthiban</td>\n      <td>Karthi, Narain, Ramana, George Maryan, Harish ...</td>\n      <td>...</td>\n      <td>0</td>\n      <td>0</td>\n      <td>0</td>\n      <td>0</td>\n      <td>0</td>\n      <td>0</td>\n      <td>0</td>\n      <td>0</td>\n      <td>0</td>\n      <td>0</td>\n    </tr>\n    <tr>\n      <th>23181</th>\n      <td>tt9903716</td>\n      <td>Jessie</td>\n      <td>2019</td>\n      <td>2019-03-15</td>\n      <td>Horror, Thriller</td>\n      <td>Telugu</td>\n      <td>India</td>\n      <td>Aswani Kumar V.</td>\n      <td>Aswani Kumar V.</td>\n      <td>Ashima Narwal, Sritha Chandana, Atul Kulkarni,...</td>\n      <td>...</td>\n      <td>0</td>\n      <td>0</td>\n      <td>0</td>\n      <td>0</td>\n      <td>0</td>\n      <td>0</td>\n      <td>0</td>\n      <td>0</td>\n      <td>0</td>\n      <td>0</td>\n    </tr>\n    <tr>\n      <th>23182</th>\n      <td>tt9905412</td>\n      <td>Ottam</td>\n      <td>2019</td>\n      <td>2019-03-08</td>\n      <td>Drama</td>\n      <td>Malayalam</td>\n      <td>India</td>\n      <td>Zam</td>\n      <td>Rajesh k Narayan</td>\n      <td>Nandu Anand, Roshan Ullas, Manikandan R. Achar...</td>\n      <td>...</td>\n      <td>0</td>\n      <td>0</td>\n      <td>0</td>\n      <td>0</td>\n      <td>0</td>\n      <td>0</td>\n      <td>0</td>\n      <td>0</td>\n      <td>0</td>\n      <td>0</td>\n    </tr>\n    <tr>\n      <th>23183</th>\n      <td>tt9905462</td>\n      <td>Pengalila</td>\n      <td>2019</td>\n      <td>2019-03-08</td>\n      <td>Drama</td>\n      <td>Malayalam</td>\n      <td>India</td>\n      <td>T.V. Chandran</td>\n      <td>T.V. Chandran</td>\n      <td>Lal, Akshara Kishor, Iniya, Narain, Renji Pani...</td>\n      <td>...</td>\n      <td>0</td>\n      <td>0</td>\n      <td>0</td>\n      <td>0</td>\n      <td>0</td>\n      <td>0</td>\n      <td>0</td>\n      <td>0</td>\n      <td>0</td>\n      <td>0</td>\n    </tr>\n    <tr>\n      <th>23184</th>\n      <td>tt9906644</td>\n      <td>Manoharam</td>\n      <td>2019</td>\n      <td>2019-09-27</td>\n      <td>Comedy, Drama</td>\n      <td>Malayalam</td>\n      <td>India</td>\n      <td>Anvar Sadik</td>\n      <td>NaN</td>\n      <td>Vineeth Sreenivasan, Aparna Das, Basil Joseph,...</td>\n      <td>...</td>\n      <td>0</td>\n      <td>0</td>\n      <td>0</td>\n      <td>0</td>\n      <td>0</td>\n      <td>0</td>\n      <td>0</td>\n      <td>0</td>\n      <td>0</td>\n      <td>0</td>\n    </tr>\n  </tbody>\n</table>\n<p>23185 rows × 35 columns</p>\n</div>"
     },
     "execution_count": 2,
     "metadata": {},
     "output_type": "execute_result"
    }
   ],
   "source": [
    "ui_movie = pd.read_csv(\"ui_movies_dummy.csv\")\n",
    "ui_movie"
   ]
  },
  {
   "cell_type": "code",
   "execution_count": 3,
   "id": "6fc271e095f988f5",
   "metadata": {
    "tags": [],
    "ExecuteTime": {
     "end_time": "2024-03-22T07:45:50.454560800Z",
     "start_time": "2024-03-22T07:45:47.907023700Z"
    }
   },
   "outputs": [],
   "source": [
    "from sklearn.feature_extraction.text import TfidfVectorizer\n",
    "\n",
    "tfidf = TfidfVectorizer()\n",
    "description = tfidf.fit_transform(ui_movie[\"description\"])"
   ]
  },
  {
   "cell_type": "code",
   "execution_count": 4,
   "id": "9d131252e7878f26",
   "metadata": {
    "ExecuteTime": {
     "end_time": "2024-03-22T07:45:50.485296400Z",
     "start_time": "2024-03-22T07:45:50.458547700Z"
    }
   },
   "outputs": [],
   "source": [
    "pickle.dump(tfidf, open(\"vectorizer.pickle\", \"wb\"))"
   ]
  },
  {
   "cell_type": "markdown",
   "source": [
    "##### Recommendation functions file: [Recommendaion functions file](recommend_ui_functions.py)\n",
    "##### Recommendation execution file: [Recommendation execution ipynb file](recommend_ui_movies.ipynb) & [Recommendation execution html file](recommend_ui_movies.html)"
   ],
   "metadata": {
    "collapsed": false
   },
   "id": "a8c81eb4b6a1d1c2"
  },
  {
   "cell_type": "code",
   "outputs": [],
   "source": [],
   "metadata": {
    "collapsed": false,
    "ExecuteTime": {
     "end_time": "2024-03-22T07:45:50.497235700Z",
     "start_time": "2024-03-22T07:45:50.483263300Z"
    }
   },
   "id": "15298ab7c5943480",
   "execution_count": 4
  }
 ],
 "metadata": {
  "kernelspec": {
   "display_name": "Python 3 (ipykernel)",
   "language": "python",
   "name": "python3"
  },
  "language_info": {
   "codemirror_mode": {
    "name": "ipython",
    "version": 3
   },
   "file_extension": ".py",
   "mimetype": "text/x-python",
   "name": "python",
   "nbconvert_exporter": "python",
   "pygments_lexer": "ipython3",
   "version": "3.11.5"
  }
 },
 "nbformat": 4,
 "nbformat_minor": 5
}
