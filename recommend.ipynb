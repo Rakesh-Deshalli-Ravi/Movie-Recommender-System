{
 "cells": [
  {
   "cell_type": "code",
   "execution_count": 25,
   "id": "initial_id",
   "metadata": {
    "collapsed": true,
    "ExecuteTime": {
     "end_time": "2024-03-22T06:41:09.041209800Z",
     "start_time": "2024-03-22T06:41:08.992822300Z"
    }
   },
   "outputs": [],
   "source": [
    "import pandas as pd\n",
    "import recommendation_functions\n",
    "from sklearn.metrics.pairwise import  euclidean_distances, manhattan_distances"
   ]
  },
  {
   "cell_type": "code",
   "outputs": [
    {
     "data": {
      "text/plain": "  imdb_title_id                              title  \\\n0     tt0116391                               Gang   \n1     tt0116748     Karobaar: The Business of Love   \n2     tt0118578                             Albela   \n3     tt0120117                            Shikari   \n4     tt0151150                               Josh   \n5     tt0169102  Lagaan - C'era una volta in India   \n6     tt0187279           Meri Biwi Ka Jawab Nahin   \n7     tt1531486            Sanam Teri Kasam(Hindi)   \n8     tt1745130          Sanam Teri Kasam(English)   \n9     tt0213890                        Mohabbatein   \n\n                      original_title  year date_published  \\\n0                               Gang  2000     2000-04-21   \n1     Karobaar: The Business of Love  2000     2000-09-15   \n2                             Albela  2001     2001-04-20   \n3                            Shikari  2000     2000-10-06   \n4                               Josh  2000     2000-06-09   \n5  Lagaan: Once Upon a Time in India  2001     2002-08-23   \n6           Meri Biwi Ka Jawab Nahin  2004     2004-07-02   \n7                   Sanam Teri Kasam  2009     2009-05-22   \n8                   Sanam Teri Kasam  2009     2009-05-22   \n9                        Mohabbatein  2000     2000-10-27   \n\n                       genre  duration country language  \\\n0       Action, Crime, Drama       152   India    Hindi   \n1             Drama, Romance       180   India    Hindi   \n2     Comedy, Drama, Romance       145   India    Hindi   \n3     Crime, Drama, Thriller       160   India    Hindi   \n4     Action, Drama, Musical       162   India    Hindi   \n5  Adventure, Drama, Musical       224   India    Hindi   \n6    Action, Comedy, Romance       150   India    Hindi   \n7     Action, Drama, Romance       170   India    Hindi   \n8     Action, Drama, Romance       170   India  English   \n9    Musical, Drama, Romance       216   India    Hindi   \n\n                      director  ... History Biography Family Mystery  Horror  \\\n0                  Mazhar Khan  ...       0         0      0       0       0   \n1                Rakesh Roshan  ...       0         0      0       0       0   \n2                Deepak Sareen  ...       0         0      0       0       0   \n3                   N. Chandra  ...       0         0      0       0       0   \n4                 Mansoor Khan  ...       0         0      0       0       0   \n5           Ashutosh Gowariker  ...       0         0      0       0       0   \n6  Pankaj Parashar, S.M. Iqbal  ...       0         0      0       0       0   \n7             Lawrence D'Souza  ...       0         0      0       0       0   \n8             Lawrence D'Souza  ...       0         0      0       0       0   \n9                Aditya Chopra  ...       0         0      0       0       0   \n\n   Music War Sport Sci-Fi  Animation  \n0      0   0     0      0          0  \n1      0   0     0      0          0  \n2      0   0     0      0          0  \n3      0   0     0      0          0  \n4      0   0     0      0          0  \n5      0   0     0      0          0  \n6      0   0     0      0          0  \n7      0   0     0      0          0  \n8      0   0     0      0          0  \n9      0   0     0      0          0  \n\n[10 rows x 42 columns]",
      "text/html": "<div>\n<style scoped>\n    .dataframe tbody tr th:only-of-type {\n        vertical-align: middle;\n    }\n\n    .dataframe tbody tr th {\n        vertical-align: top;\n    }\n\n    .dataframe thead th {\n        text-align: right;\n    }\n</style>\n<table border=\"1\" class=\"dataframe\">\n  <thead>\n    <tr style=\"text-align: right;\">\n      <th></th>\n      <th>imdb_title_id</th>\n      <th>title</th>\n      <th>original_title</th>\n      <th>year</th>\n      <th>date_published</th>\n      <th>genre</th>\n      <th>duration</th>\n      <th>country</th>\n      <th>language</th>\n      <th>director</th>\n      <th>...</th>\n      <th>History</th>\n      <th>Biography</th>\n      <th>Family</th>\n      <th>Mystery</th>\n      <th>Horror</th>\n      <th>Music</th>\n      <th>War</th>\n      <th>Sport</th>\n      <th>Sci-Fi</th>\n      <th>Animation</th>\n    </tr>\n  </thead>\n  <tbody>\n    <tr>\n      <th>0</th>\n      <td>tt0116391</td>\n      <td>Gang</td>\n      <td>Gang</td>\n      <td>2000</td>\n      <td>2000-04-21</td>\n      <td>Action, Crime, Drama</td>\n      <td>152</td>\n      <td>India</td>\n      <td>Hindi</td>\n      <td>Mazhar Khan</td>\n      <td>...</td>\n      <td>0</td>\n      <td>0</td>\n      <td>0</td>\n      <td>0</td>\n      <td>0</td>\n      <td>0</td>\n      <td>0</td>\n      <td>0</td>\n      <td>0</td>\n      <td>0</td>\n    </tr>\n    <tr>\n      <th>1</th>\n      <td>tt0116748</td>\n      <td>Karobaar: The Business of Love</td>\n      <td>Karobaar: The Business of Love</td>\n      <td>2000</td>\n      <td>2000-09-15</td>\n      <td>Drama, Romance</td>\n      <td>180</td>\n      <td>India</td>\n      <td>Hindi</td>\n      <td>Rakesh Roshan</td>\n      <td>...</td>\n      <td>0</td>\n      <td>0</td>\n      <td>0</td>\n      <td>0</td>\n      <td>0</td>\n      <td>0</td>\n      <td>0</td>\n      <td>0</td>\n      <td>0</td>\n      <td>0</td>\n    </tr>\n    <tr>\n      <th>2</th>\n      <td>tt0118578</td>\n      <td>Albela</td>\n      <td>Albela</td>\n      <td>2001</td>\n      <td>2001-04-20</td>\n      <td>Comedy, Drama, Romance</td>\n      <td>145</td>\n      <td>India</td>\n      <td>Hindi</td>\n      <td>Deepak Sareen</td>\n      <td>...</td>\n      <td>0</td>\n      <td>0</td>\n      <td>0</td>\n      <td>0</td>\n      <td>0</td>\n      <td>0</td>\n      <td>0</td>\n      <td>0</td>\n      <td>0</td>\n      <td>0</td>\n    </tr>\n    <tr>\n      <th>3</th>\n      <td>tt0120117</td>\n      <td>Shikari</td>\n      <td>Shikari</td>\n      <td>2000</td>\n      <td>2000-10-06</td>\n      <td>Crime, Drama, Thriller</td>\n      <td>160</td>\n      <td>India</td>\n      <td>Hindi</td>\n      <td>N. Chandra</td>\n      <td>...</td>\n      <td>0</td>\n      <td>0</td>\n      <td>0</td>\n      <td>0</td>\n      <td>0</td>\n      <td>0</td>\n      <td>0</td>\n      <td>0</td>\n      <td>0</td>\n      <td>0</td>\n    </tr>\n    <tr>\n      <th>4</th>\n      <td>tt0151150</td>\n      <td>Josh</td>\n      <td>Josh</td>\n      <td>2000</td>\n      <td>2000-06-09</td>\n      <td>Action, Drama, Musical</td>\n      <td>162</td>\n      <td>India</td>\n      <td>Hindi</td>\n      <td>Mansoor Khan</td>\n      <td>...</td>\n      <td>0</td>\n      <td>0</td>\n      <td>0</td>\n      <td>0</td>\n      <td>0</td>\n      <td>0</td>\n      <td>0</td>\n      <td>0</td>\n      <td>0</td>\n      <td>0</td>\n    </tr>\n    <tr>\n      <th>5</th>\n      <td>tt0169102</td>\n      <td>Lagaan - C'era una volta in India</td>\n      <td>Lagaan: Once Upon a Time in India</td>\n      <td>2001</td>\n      <td>2002-08-23</td>\n      <td>Adventure, Drama, Musical</td>\n      <td>224</td>\n      <td>India</td>\n      <td>Hindi</td>\n      <td>Ashutosh Gowariker</td>\n      <td>...</td>\n      <td>0</td>\n      <td>0</td>\n      <td>0</td>\n      <td>0</td>\n      <td>0</td>\n      <td>0</td>\n      <td>0</td>\n      <td>0</td>\n      <td>0</td>\n      <td>0</td>\n    </tr>\n    <tr>\n      <th>6</th>\n      <td>tt0187279</td>\n      <td>Meri Biwi Ka Jawab Nahin</td>\n      <td>Meri Biwi Ka Jawab Nahin</td>\n      <td>2004</td>\n      <td>2004-07-02</td>\n      <td>Action, Comedy, Romance</td>\n      <td>150</td>\n      <td>India</td>\n      <td>Hindi</td>\n      <td>Pankaj Parashar, S.M. Iqbal</td>\n      <td>...</td>\n      <td>0</td>\n      <td>0</td>\n      <td>0</td>\n      <td>0</td>\n      <td>0</td>\n      <td>0</td>\n      <td>0</td>\n      <td>0</td>\n      <td>0</td>\n      <td>0</td>\n    </tr>\n    <tr>\n      <th>7</th>\n      <td>tt1531486</td>\n      <td>Sanam Teri Kasam(Hindi)</td>\n      <td>Sanam Teri Kasam</td>\n      <td>2009</td>\n      <td>2009-05-22</td>\n      <td>Action, Drama, Romance</td>\n      <td>170</td>\n      <td>India</td>\n      <td>Hindi</td>\n      <td>Lawrence D'Souza</td>\n      <td>...</td>\n      <td>0</td>\n      <td>0</td>\n      <td>0</td>\n      <td>0</td>\n      <td>0</td>\n      <td>0</td>\n      <td>0</td>\n      <td>0</td>\n      <td>0</td>\n      <td>0</td>\n    </tr>\n    <tr>\n      <th>8</th>\n      <td>tt1745130</td>\n      <td>Sanam Teri Kasam(English)</td>\n      <td>Sanam Teri Kasam</td>\n      <td>2009</td>\n      <td>2009-05-22</td>\n      <td>Action, Drama, Romance</td>\n      <td>170</td>\n      <td>India</td>\n      <td>English</td>\n      <td>Lawrence D'Souza</td>\n      <td>...</td>\n      <td>0</td>\n      <td>0</td>\n      <td>0</td>\n      <td>0</td>\n      <td>0</td>\n      <td>0</td>\n      <td>0</td>\n      <td>0</td>\n      <td>0</td>\n      <td>0</td>\n    </tr>\n    <tr>\n      <th>9</th>\n      <td>tt0213890</td>\n      <td>Mohabbatein</td>\n      <td>Mohabbatein</td>\n      <td>2000</td>\n      <td>2000-10-27</td>\n      <td>Musical, Drama, Romance</td>\n      <td>216</td>\n      <td>India</td>\n      <td>Hindi</td>\n      <td>Aditya Chopra</td>\n      <td>...</td>\n      <td>0</td>\n      <td>0</td>\n      <td>0</td>\n      <td>0</td>\n      <td>0</td>\n      <td>0</td>\n      <td>0</td>\n      <td>0</td>\n      <td>0</td>\n      <td>0</td>\n    </tr>\n  </tbody>\n</table>\n<p>10 rows × 42 columns</p>\n</div>"
     },
     "execution_count": 26,
     "metadata": {},
     "output_type": "execute_result"
    }
   ],
   "source": [
    "movies = pd.read_csv(\"indian_movies_dummy.csv\")\n",
    "movies.head(10)"
   ],
   "metadata": {
    "collapsed": false,
    "ExecuteTime": {
     "end_time": "2024-03-22T06:41:09.597135100Z",
     "start_time": "2024-03-22T06:41:09.010780300Z"
    }
   },
   "id": "6a05e2209a62c295",
   "execution_count": 26
  },
  {
   "cell_type": "code",
   "outputs": [
    {
     "data": {
      "text/plain": "     imdb_title_id                           title                   genre  \\\n0        tt0116391                            Gang    Action, Crime, Drama   \n1        tt0116748  Karobaar: The Business of Love          Drama, Romance   \n2        tt0118578                          Albela  Comedy, Drama, Romance   \n3        tt0120117                         Shikari  Crime, Drama, Thriller   \n4        tt0151150                            Josh  Action, Drama, Musical   \n...            ...                             ...                     ...   \n5147     tt9680136              Pati Patni Aur Woh         Comedy, Romance   \n5148     tt9680166       Yeh Suhaagraat Impossible                  Comedy   \n5157     tt9766280                  Bhangra Paa Le    Comedy, Drama, Music   \n5158     tt9766310                       Kanpuriye                   Drama   \n5165     tt9817760                    Jai Mummy Di  Comedy, Drama, Romance   \n\n     language                                        description  \\\n0       Hindi  After falling prey to underworld, four friends...   \n1       Hindi  Wealthy Rajiv Sinha and middle-classed Amar Sa...   \n2       Hindi  Tony (Govinda) works as a guide, helping touri...   \n3       Hindi  Filled with vengeance, a simple man turns into...   \n4       Hindi  Shah Rukh Khan and Sharad Kapoor are the leade...   \n...       ...                                                ...   \n5147    Hindi  Chintu Tyagi is an ordinary, middle class man ...   \n5148    Hindi  Based on the backdrop of the weddings that hap...   \n5157    Hindi  Determined to bring traditional bhangra to the...   \n5158    Hindi  The story revolves around the story of three b...   \n5165    Hindi  Jai Mummy Di is a light-hearted family comedy ...   \n\n      weighted_average_vote  \n0                       6.3  \n1                       4.5  \n2                       3.7  \n3                       4.5  \n4                       6.1  \n...                     ...  \n5147                    5.8  \n5148                    8.7  \n5157                    6.1  \n5158                    6.3  \n5165                    3.6  \n\n[1742 rows x 6 columns]",
      "text/html": "<div>\n<style scoped>\n    .dataframe tbody tr th:only-of-type {\n        vertical-align: middle;\n    }\n\n    .dataframe tbody tr th {\n        vertical-align: top;\n    }\n\n    .dataframe thead th {\n        text-align: right;\n    }\n</style>\n<table border=\"1\" class=\"dataframe\">\n  <thead>\n    <tr style=\"text-align: right;\">\n      <th></th>\n      <th>imdb_title_id</th>\n      <th>title</th>\n      <th>genre</th>\n      <th>language</th>\n      <th>description</th>\n      <th>weighted_average_vote</th>\n    </tr>\n  </thead>\n  <tbody>\n    <tr>\n      <th>0</th>\n      <td>tt0116391</td>\n      <td>Gang</td>\n      <td>Action, Crime, Drama</td>\n      <td>Hindi</td>\n      <td>After falling prey to underworld, four friends...</td>\n      <td>6.3</td>\n    </tr>\n    <tr>\n      <th>1</th>\n      <td>tt0116748</td>\n      <td>Karobaar: The Business of Love</td>\n      <td>Drama, Romance</td>\n      <td>Hindi</td>\n      <td>Wealthy Rajiv Sinha and middle-classed Amar Sa...</td>\n      <td>4.5</td>\n    </tr>\n    <tr>\n      <th>2</th>\n      <td>tt0118578</td>\n      <td>Albela</td>\n      <td>Comedy, Drama, Romance</td>\n      <td>Hindi</td>\n      <td>Tony (Govinda) works as a guide, helping touri...</td>\n      <td>3.7</td>\n    </tr>\n    <tr>\n      <th>3</th>\n      <td>tt0120117</td>\n      <td>Shikari</td>\n      <td>Crime, Drama, Thriller</td>\n      <td>Hindi</td>\n      <td>Filled with vengeance, a simple man turns into...</td>\n      <td>4.5</td>\n    </tr>\n    <tr>\n      <th>4</th>\n      <td>tt0151150</td>\n      <td>Josh</td>\n      <td>Action, Drama, Musical</td>\n      <td>Hindi</td>\n      <td>Shah Rukh Khan and Sharad Kapoor are the leade...</td>\n      <td>6.1</td>\n    </tr>\n    <tr>\n      <th>...</th>\n      <td>...</td>\n      <td>...</td>\n      <td>...</td>\n      <td>...</td>\n      <td>...</td>\n      <td>...</td>\n    </tr>\n    <tr>\n      <th>5147</th>\n      <td>tt9680136</td>\n      <td>Pati Patni Aur Woh</td>\n      <td>Comedy, Romance</td>\n      <td>Hindi</td>\n      <td>Chintu Tyagi is an ordinary, middle class man ...</td>\n      <td>5.8</td>\n    </tr>\n    <tr>\n      <th>5148</th>\n      <td>tt9680166</td>\n      <td>Yeh Suhaagraat Impossible</td>\n      <td>Comedy</td>\n      <td>Hindi</td>\n      <td>Based on the backdrop of the weddings that hap...</td>\n      <td>8.7</td>\n    </tr>\n    <tr>\n      <th>5157</th>\n      <td>tt9766280</td>\n      <td>Bhangra Paa Le</td>\n      <td>Comedy, Drama, Music</td>\n      <td>Hindi</td>\n      <td>Determined to bring traditional bhangra to the...</td>\n      <td>6.1</td>\n    </tr>\n    <tr>\n      <th>5158</th>\n      <td>tt9766310</td>\n      <td>Kanpuriye</td>\n      <td>Drama</td>\n      <td>Hindi</td>\n      <td>The story revolves around the story of three b...</td>\n      <td>6.3</td>\n    </tr>\n    <tr>\n      <th>5165</th>\n      <td>tt9817760</td>\n      <td>Jai Mummy Di</td>\n      <td>Comedy, Drama, Romance</td>\n      <td>Hindi</td>\n      <td>Jai Mummy Di is a light-hearted family comedy ...</td>\n      <td>3.6</td>\n    </tr>\n  </tbody>\n</table>\n<p>1742 rows × 6 columns</p>\n</div>"
     },
     "execution_count": 27,
     "metadata": {},
     "output_type": "execute_result"
    }
   ],
   "source": [
    "movies[movies[\"language\"] == \"Hindi\"][[\"imdb_title_id\", \"title\", \"genre\", \"language\", \"description\", \"weighted_average_vote\"]]"
   ],
   "metadata": {
    "collapsed": false,
    "ExecuteTime": {
     "end_time": "2024-03-22T06:41:09.816207700Z",
     "start_time": "2024-03-22T06:41:09.609107700Z"
    }
   },
   "id": "1d72a19a9624fedc",
   "execution_count": 27
  },
  {
   "cell_type": "code",
   "outputs": [
    {
     "data": {
      "text/plain": "     imdb_title_id      title    genre language  \\\n2033     tt1773441  Gaalipata  Romance  Kannada   \n\n                                            description  weighted_average_vote  \n2033  Three best friends goes to thirthalli for thei...                    7.9  ",
      "text/html": "<div>\n<style scoped>\n    .dataframe tbody tr th:only-of-type {\n        vertical-align: middle;\n    }\n\n    .dataframe tbody tr th {\n        vertical-align: top;\n    }\n\n    .dataframe thead th {\n        text-align: right;\n    }\n</style>\n<table border=\"1\" class=\"dataframe\">\n  <thead>\n    <tr style=\"text-align: right;\">\n      <th></th>\n      <th>imdb_title_id</th>\n      <th>title</th>\n      <th>genre</th>\n      <th>language</th>\n      <th>description</th>\n      <th>weighted_average_vote</th>\n    </tr>\n  </thead>\n  <tbody>\n    <tr>\n      <th>2033</th>\n      <td>tt1773441</td>\n      <td>Gaalipata</td>\n      <td>Romance</td>\n      <td>Kannada</td>\n      <td>Three best friends goes to thirthalli for thei...</td>\n      <td>7.9</td>\n    </tr>\n  </tbody>\n</table>\n</div>"
     },
     "execution_count": 28,
     "metadata": {},
     "output_type": "execute_result"
    }
   ],
   "source": [
    "movies[movies[\"imdb_title_id\"] == \"tt1773441\"][[\"imdb_title_id\", \"title\", \"genre\", \"language\", \"description\", \"weighted_average_vote\"]]"
   ],
   "metadata": {
    "collapsed": false,
    "ExecuteTime": {
     "end_time": "2024-03-22T06:41:09.900987600Z",
     "start_time": "2024-03-22T06:41:09.681234400Z"
    }
   },
   "id": "6c20fa4e19b7ad7b",
   "execution_count": 28
  },
  {
   "cell_type": "code",
   "outputs": [
    {
     "name": "stderr",
     "output_type": "stream",
     "text": [
      "C:\\Users\\Dell\\OneDrive\\Desktop\\DePaul\\MachineLearning\\Project\\project_document\\recommendation_functions.py:29: UserWarning: Boolean Series key will be reindexed to match DataFrame index.\n",
      "  language_movie = language_movie[indian_movies[\"imdb_title_id\"].astype(str).str.contains(\n",
      "C:\\Users\\Dell\\OneDrive\\Desktop\\DePaul\\MachineLearning\\Project\\project_document\\recommendation_functions.py:37: UserWarning: Boolean Series key will be reindexed to match DataFrame index.\n",
      "  language_movie = language_movie[indian_movies[\"imdb_title_id\"].astype(str).str.contains(\n"
     ]
    },
    {
     "data": {
      "text/plain": "     imdb_title_id                  title                   genre language  \\\n889      tt0871012       Rama Shama Bhama                  Comedy  Kannada   \n980      tt0986329           Mungaru Male  Comedy, Music, Romance  Kannada   \n1053    tt10300674  Gubbi Mele Brahmastra                  Comedy  Kannada   \n1169    tt10867504                    Fan                   Drama  Kannada   \n1176    tt10882938        Mundina Nildana  Comedy, Drama, Romance  Kannada   \n1213    tt11042658             Gantumoote                   Drama  Kannada   \n1243    tt11235142                    Dia                   Drama  Kannada   \n1284    tt11515380              3rd Class                  Action  Kannada   \n1327    tt11779616      Shivaji Surathkal                   Drama  Kannada   \n2021     tt1757772                 Jackie          Action, Comedy  Kannada   \n\n                                            description  weighted_average_vote  \n889   Must watch for who loves comedy in simple trac...                    7.7  \n980   Preetam falls in love at first sight with Nand...                    8.3  \n1053  Software engineer Venkata Krishna Gubbi meets ...                    5.1  \n1169  Protagonist Drushya (Aryan Gowda) is a popular...                    9.2  \n1176  Three different people with three different go...                    6.5  \n1213  A 16-year-old girl embarks on a journey of lif...                    8.2  \n1243  Dia tells the story of a young, introvert girl...                    8.2  \n1284  Coming from two different social spectrum's, t...                    8.8  \n1327  Detective Shivaji Surathkal is entrusted with ...                    7.6  \n2021  Life takes a turn for Jackie, a happy-go-lucky...                    7.1  ",
      "text/html": "<div>\n<style scoped>\n    .dataframe tbody tr th:only-of-type {\n        vertical-align: middle;\n    }\n\n    .dataframe tbody tr th {\n        vertical-align: top;\n    }\n\n    .dataframe thead th {\n        text-align: right;\n    }\n</style>\n<table border=\"1\" class=\"dataframe\">\n  <thead>\n    <tr style=\"text-align: right;\">\n      <th></th>\n      <th>imdb_title_id</th>\n      <th>title</th>\n      <th>genre</th>\n      <th>language</th>\n      <th>description</th>\n      <th>weighted_average_vote</th>\n    </tr>\n  </thead>\n  <tbody>\n    <tr>\n      <th>889</th>\n      <td>tt0871012</td>\n      <td>Rama Shama Bhama</td>\n      <td>Comedy</td>\n      <td>Kannada</td>\n      <td>Must watch for who loves comedy in simple trac...</td>\n      <td>7.7</td>\n    </tr>\n    <tr>\n      <th>980</th>\n      <td>tt0986329</td>\n      <td>Mungaru Male</td>\n      <td>Comedy, Music, Romance</td>\n      <td>Kannada</td>\n      <td>Preetam falls in love at first sight with Nand...</td>\n      <td>8.3</td>\n    </tr>\n    <tr>\n      <th>1053</th>\n      <td>tt10300674</td>\n      <td>Gubbi Mele Brahmastra</td>\n      <td>Comedy</td>\n      <td>Kannada</td>\n      <td>Software engineer Venkata Krishna Gubbi meets ...</td>\n      <td>5.1</td>\n    </tr>\n    <tr>\n      <th>1169</th>\n      <td>tt10867504</td>\n      <td>Fan</td>\n      <td>Drama</td>\n      <td>Kannada</td>\n      <td>Protagonist Drushya (Aryan Gowda) is a popular...</td>\n      <td>9.2</td>\n    </tr>\n    <tr>\n      <th>1176</th>\n      <td>tt10882938</td>\n      <td>Mundina Nildana</td>\n      <td>Comedy, Drama, Romance</td>\n      <td>Kannada</td>\n      <td>Three different people with three different go...</td>\n      <td>6.5</td>\n    </tr>\n    <tr>\n      <th>1213</th>\n      <td>tt11042658</td>\n      <td>Gantumoote</td>\n      <td>Drama</td>\n      <td>Kannada</td>\n      <td>A 16-year-old girl embarks on a journey of lif...</td>\n      <td>8.2</td>\n    </tr>\n    <tr>\n      <th>1243</th>\n      <td>tt11235142</td>\n      <td>Dia</td>\n      <td>Drama</td>\n      <td>Kannada</td>\n      <td>Dia tells the story of a young, introvert girl...</td>\n      <td>8.2</td>\n    </tr>\n    <tr>\n      <th>1284</th>\n      <td>tt11515380</td>\n      <td>3rd Class</td>\n      <td>Action</td>\n      <td>Kannada</td>\n      <td>Coming from two different social spectrum's, t...</td>\n      <td>8.8</td>\n    </tr>\n    <tr>\n      <th>1327</th>\n      <td>tt11779616</td>\n      <td>Shivaji Surathkal</td>\n      <td>Drama</td>\n      <td>Kannada</td>\n      <td>Detective Shivaji Surathkal is entrusted with ...</td>\n      <td>7.6</td>\n    </tr>\n    <tr>\n      <th>2021</th>\n      <td>tt1757772</td>\n      <td>Jackie</td>\n      <td>Action, Comedy</td>\n      <td>Kannada</td>\n      <td>Life takes a turn for Jackie, a happy-go-lucky...</td>\n      <td>7.1</td>\n    </tr>\n  </tbody>\n</table>\n</div>"
     },
     "execution_count": 29,
     "metadata": {},
     "output_type": "execute_result"
    }
   ],
   "source": [
    "recommendation_functions.recommendation_cosine_similarity(\"tt1773441\")[[\"imdb_title_id\", \"title\", \"genre\", \"language\", \"description\", \"weighted_average_vote\"]]"
   ],
   "metadata": {
    "collapsed": false,
    "ExecuteTime": {
     "end_time": "2024-03-22T06:41:38.885473300Z",
     "start_time": "2024-03-22T06:41:09.732910700Z"
    }
   },
   "id": "4e5f354a016941c",
   "execution_count": 29
  },
  {
   "cell_type": "code",
   "outputs": [
    {
     "name": "stderr",
     "output_type": "stream",
     "text": [
      "C:\\Users\\Dell\\OneDrive\\Desktop\\DePaul\\MachineLearning\\Project\\project_document\\recommendation_functions.py:90: UserWarning: Boolean Series key will be reindexed to match DataFrame index.\n",
      "  language_movie = language_movie[indian_movies[\"imdb_title_id\"].astype(str).str.contains(\n",
      "C:\\Users\\Dell\\OneDrive\\Desktop\\DePaul\\MachineLearning\\Project\\project_document\\recommendation_functions.py:98: UserWarning: Boolean Series key will be reindexed to match DataFrame index.\n",
      "  language_movie = language_movie[indian_movies[\"imdb_title_id\"].astype(str).str.contains(\n"
     ]
    },
    {
     "data": {
      "text/plain": "     imdb_title_id         title                       genre language  \\\n1169    tt10867504           Fan                       Drama  Kannada   \n1284    tt11515380     3rd Class                      Action  Kannada   \n3661     tt5021536  Kendasampige           Romance, Thriller  Kannada   \n980      tt0986329  Mungaru Male      Comedy, Music, Romance  Kannada   \n1213    tt11042658    Gantumoote                       Drama  Kannada   \n1243    tt11235142           Dia                       Drama  Kannada   \n4160     tt6284474        Chowka              Drama, Romance  Kannada   \n2914     tt3053796     Neer Dose      Comedy, Drama, Romance  Kannada   \n3643     tt4977540      Aatagara  Mystery, Romance, Thriller  Kannada   \n4195     tt6405208         Mufti                      Action  Kannada   \n\n                                            description  weighted_average_vote  \n1169  Protagonist Drushya (Aryan Gowda) is a popular...                    9.2  \n1284  Coming from two different social spectrum's, t...                    8.8  \n3661  When a love story goes awry, two young lovers ...                    8.3  \n980   Preetam falls in love at first sight with Nand...                    8.3  \n1213  A 16-year-old girl embarks on a journey of lif...                    8.2  \n1243  Dia tells the story of a young, introvert girl...                    8.2  \n4160  The film is the narrative which emerges throug...                    8.2  \n2914  The lives of four individuals who are unlikely...                    8.0  \n3643  10 strangers set off to a strange land. What h...                    8.0  \n4195  An undercover cop goes into the big bad world ...                    8.0  ",
      "text/html": "<div>\n<style scoped>\n    .dataframe tbody tr th:only-of-type {\n        vertical-align: middle;\n    }\n\n    .dataframe tbody tr th {\n        vertical-align: top;\n    }\n\n    .dataframe thead th {\n        text-align: right;\n    }\n</style>\n<table border=\"1\" class=\"dataframe\">\n  <thead>\n    <tr style=\"text-align: right;\">\n      <th></th>\n      <th>imdb_title_id</th>\n      <th>title</th>\n      <th>genre</th>\n      <th>language</th>\n      <th>description</th>\n      <th>weighted_average_vote</th>\n    </tr>\n  </thead>\n  <tbody>\n    <tr>\n      <th>1169</th>\n      <td>tt10867504</td>\n      <td>Fan</td>\n      <td>Drama</td>\n      <td>Kannada</td>\n      <td>Protagonist Drushya (Aryan Gowda) is a popular...</td>\n      <td>9.2</td>\n    </tr>\n    <tr>\n      <th>1284</th>\n      <td>tt11515380</td>\n      <td>3rd Class</td>\n      <td>Action</td>\n      <td>Kannada</td>\n      <td>Coming from two different social spectrum's, t...</td>\n      <td>8.8</td>\n    </tr>\n    <tr>\n      <th>3661</th>\n      <td>tt5021536</td>\n      <td>Kendasampige</td>\n      <td>Romance, Thriller</td>\n      <td>Kannada</td>\n      <td>When a love story goes awry, two young lovers ...</td>\n      <td>8.3</td>\n    </tr>\n    <tr>\n      <th>980</th>\n      <td>tt0986329</td>\n      <td>Mungaru Male</td>\n      <td>Comedy, Music, Romance</td>\n      <td>Kannada</td>\n      <td>Preetam falls in love at first sight with Nand...</td>\n      <td>8.3</td>\n    </tr>\n    <tr>\n      <th>1213</th>\n      <td>tt11042658</td>\n      <td>Gantumoote</td>\n      <td>Drama</td>\n      <td>Kannada</td>\n      <td>A 16-year-old girl embarks on a journey of lif...</td>\n      <td>8.2</td>\n    </tr>\n    <tr>\n      <th>1243</th>\n      <td>tt11235142</td>\n      <td>Dia</td>\n      <td>Drama</td>\n      <td>Kannada</td>\n      <td>Dia tells the story of a young, introvert girl...</td>\n      <td>8.2</td>\n    </tr>\n    <tr>\n      <th>4160</th>\n      <td>tt6284474</td>\n      <td>Chowka</td>\n      <td>Drama, Romance</td>\n      <td>Kannada</td>\n      <td>The film is the narrative which emerges throug...</td>\n      <td>8.2</td>\n    </tr>\n    <tr>\n      <th>2914</th>\n      <td>tt3053796</td>\n      <td>Neer Dose</td>\n      <td>Comedy, Drama, Romance</td>\n      <td>Kannada</td>\n      <td>The lives of four individuals who are unlikely...</td>\n      <td>8.0</td>\n    </tr>\n    <tr>\n      <th>3643</th>\n      <td>tt4977540</td>\n      <td>Aatagara</td>\n      <td>Mystery, Romance, Thriller</td>\n      <td>Kannada</td>\n      <td>10 strangers set off to a strange land. What h...</td>\n      <td>8.0</td>\n    </tr>\n    <tr>\n      <th>4195</th>\n      <td>tt6405208</td>\n      <td>Mufti</td>\n      <td>Action</td>\n      <td>Kannada</td>\n      <td>An undercover cop goes into the big bad world ...</td>\n      <td>8.0</td>\n    </tr>\n  </tbody>\n</table>\n</div>"
     },
     "execution_count": 30,
     "metadata": {},
     "output_type": "execute_result"
    }
   ],
   "source": [
    "recommendation_functions.recommendation_distance_metrics(\"tt1773441\", euclidean_distances)[[\"imdb_title_id\", \"title\", \"genre\", \"language\", \"description\", \"weighted_average_vote\"]]"
   ],
   "metadata": {
    "collapsed": false,
    "ExecuteTime": {
     "end_time": "2024-03-22T06:42:05.467000100Z",
     "start_time": "2024-03-22T06:41:38.830105100Z"
    }
   },
   "id": "1da1e7e9c0d7b4b3",
   "execution_count": 30
  },
  {
   "cell_type": "code",
   "outputs": [
    {
     "name": "stderr",
     "output_type": "stream",
     "text": [
      "C:\\Users\\Dell\\OneDrive\\Desktop\\DePaul\\MachineLearning\\Project\\project_document\\recommendation_functions.py:90: UserWarning: Boolean Series key will be reindexed to match DataFrame index.\n",
      "  language_movie = language_movie[indian_movies[\"imdb_title_id\"].astype(str).str.contains(\n",
      "C:\\Users\\Dell\\OneDrive\\Desktop\\DePaul\\MachineLearning\\Project\\project_document\\recommendation_functions.py:98: UserWarning: Boolean Series key will be reindexed to match DataFrame index.\n",
      "  language_movie = language_movie[indian_movies[\"imdb_title_id\"].astype(str).str.contains(\n"
     ]
    },
    {
     "data": {
      "text/plain": "     imdb_title_id                                              title  \\\n3589     tt4897596                                          Digbhayam   \n5109     tt9537008                                  Gini Helida Kathe   \n1284    tt11515380                                          3rd Class   \n4917     tt8602654  Sarkari. Hi. Pra. Shale Kasaragodu, Koduge: Ra...   \n5156     tt9766160                                         Damayanthi   \n980      tt0986329                                       Mungaru Male   \n2894     tt3004588                                               Mata   \n4195     tt6405208                                              Mufti   \n2142     tt1881010                                             Milana   \n4976     tt8907960                                Naduve Antaravirali   \n\n                       genre language  \\\n3589                Thriller  Kannada   \n5109                   Drama  Kannada   \n1284                  Action  Kannada   \n4917                   Drama  Kannada   \n5156                   Drama  Kannada   \n980   Comedy, Music, Romance  Kannada   \n2894                  Comedy  Kannada   \n4195                  Action  Kannada   \n2142                 Romance  Kannada   \n4976                  Comedy  Kannada   \n\n                                            description  weighted_average_vote  \n3589  An investigative officer investigates a sensat...                    9.2  \n5109  Gini aka Ganesh, a cab driver meets a passenge...                    9.1  \n1284  Coming from two different social spectrum's, t...                    8.8  \n4917  In Kasargodu, Kerala is a normal school until ...                    8.6  \n5156  After several years Damayanthi returns to exac...                    8.4  \n980   Preetam falls in love at first sight with Nand...                    8.3  \n2894  A driver driving to a Matha in Shimoga, makes ...                    8.1  \n4195  An undercover cop goes into the big bad world ...                    8.0  \n2142  Hero is in love with a girl who is forced to m...                    7.9  \n4976  A love story centering on two college students...                    7.9  ",
      "text/html": "<div>\n<style scoped>\n    .dataframe tbody tr th:only-of-type {\n        vertical-align: middle;\n    }\n\n    .dataframe tbody tr th {\n        vertical-align: top;\n    }\n\n    .dataframe thead th {\n        text-align: right;\n    }\n</style>\n<table border=\"1\" class=\"dataframe\">\n  <thead>\n    <tr style=\"text-align: right;\">\n      <th></th>\n      <th>imdb_title_id</th>\n      <th>title</th>\n      <th>genre</th>\n      <th>language</th>\n      <th>description</th>\n      <th>weighted_average_vote</th>\n    </tr>\n  </thead>\n  <tbody>\n    <tr>\n      <th>3589</th>\n      <td>tt4897596</td>\n      <td>Digbhayam</td>\n      <td>Thriller</td>\n      <td>Kannada</td>\n      <td>An investigative officer investigates a sensat...</td>\n      <td>9.2</td>\n    </tr>\n    <tr>\n      <th>5109</th>\n      <td>tt9537008</td>\n      <td>Gini Helida Kathe</td>\n      <td>Drama</td>\n      <td>Kannada</td>\n      <td>Gini aka Ganesh, a cab driver meets a passenge...</td>\n      <td>9.1</td>\n    </tr>\n    <tr>\n      <th>1284</th>\n      <td>tt11515380</td>\n      <td>3rd Class</td>\n      <td>Action</td>\n      <td>Kannada</td>\n      <td>Coming from two different social spectrum's, t...</td>\n      <td>8.8</td>\n    </tr>\n    <tr>\n      <th>4917</th>\n      <td>tt8602654</td>\n      <td>Sarkari. Hi. Pra. Shale Kasaragodu, Koduge: Ra...</td>\n      <td>Drama</td>\n      <td>Kannada</td>\n      <td>In Kasargodu, Kerala is a normal school until ...</td>\n      <td>8.6</td>\n    </tr>\n    <tr>\n      <th>5156</th>\n      <td>tt9766160</td>\n      <td>Damayanthi</td>\n      <td>Drama</td>\n      <td>Kannada</td>\n      <td>After several years Damayanthi returns to exac...</td>\n      <td>8.4</td>\n    </tr>\n    <tr>\n      <th>980</th>\n      <td>tt0986329</td>\n      <td>Mungaru Male</td>\n      <td>Comedy, Music, Romance</td>\n      <td>Kannada</td>\n      <td>Preetam falls in love at first sight with Nand...</td>\n      <td>8.3</td>\n    </tr>\n    <tr>\n      <th>2894</th>\n      <td>tt3004588</td>\n      <td>Mata</td>\n      <td>Comedy</td>\n      <td>Kannada</td>\n      <td>A driver driving to a Matha in Shimoga, makes ...</td>\n      <td>8.1</td>\n    </tr>\n    <tr>\n      <th>4195</th>\n      <td>tt6405208</td>\n      <td>Mufti</td>\n      <td>Action</td>\n      <td>Kannada</td>\n      <td>An undercover cop goes into the big bad world ...</td>\n      <td>8.0</td>\n    </tr>\n    <tr>\n      <th>2142</th>\n      <td>tt1881010</td>\n      <td>Milana</td>\n      <td>Romance</td>\n      <td>Kannada</td>\n      <td>Hero is in love with a girl who is forced to m...</td>\n      <td>7.9</td>\n    </tr>\n    <tr>\n      <th>4976</th>\n      <td>tt8907960</td>\n      <td>Naduve Antaravirali</td>\n      <td>Comedy</td>\n      <td>Kannada</td>\n      <td>A love story centering on two college students...</td>\n      <td>7.9</td>\n    </tr>\n  </tbody>\n</table>\n</div>"
     },
     "execution_count": 31,
     "metadata": {},
     "output_type": "execute_result"
    }
   ],
   "source": [
    "recommendation_functions.recommendation_distance_metrics(\"tt1773441\", manhattan_distances)[[\"imdb_title_id\", \"title\", \"genre\", \"language\", \"description\", \"weighted_average_vote\"]]"
   ],
   "metadata": {
    "collapsed": false,
    "ExecuteTime": {
     "end_time": "2024-03-22T06:42:32.532158300Z",
     "start_time": "2024-03-22T06:42:05.474978300Z"
    }
   },
   "id": "1452cfb7c423164d",
   "execution_count": 31
  },
  {
   "cell_type": "code",
   "outputs": [
    {
     "name": "stderr",
     "output_type": "stream",
     "text": [
      "C:\\Users\\Dell\\OneDrive\\Desktop\\DePaul\\MachineLearning\\Project\\project_document\\recommendation_functions.py:151: UserWarning: Boolean Series key will be reindexed to match DataFrame index.\n",
      "  language_movie = language_movie[\n"
     ]
    },
    {
     "data": {
      "text/plain": "     imdb_title_id                                              title  \\\n4674     tt1043729                           Suvarna Sundari(Kannada)   \n3589     tt4897596                                          Digbhayam   \n1169    tt10867504                                                Fan   \n5109     tt9537008                                  Gini Helida Kathe   \n1326    tt11777460                             Sri Bharatha Baahubali   \n1284    tt11515380                                          3rd Class   \n3600     tt4909506                      Godhi Banna Sadharana Mykattu   \n5083     tt9343826                                Ananthu V/S Nusrath   \n4917     tt8602654  Sarkari. Hi. Pra. Shale Kasaragodu, Koduge: Ra...   \n5098     tt9430780                                        Bell Bottom   \n\n                      genre language  \\\n4674       Action, Thriller  Kannada   \n3589               Thriller  Kannada   \n1169                  Drama  Kannada   \n5109                  Drama  Kannada   \n1326                 Comedy  Kannada   \n1284                 Action  Kannada   \n3600        Drama, Thriller  Kannada   \n5083  Comedy, Drama, Family  Kannada   \n4917                  Drama  Kannada   \n5098       Comedy, Thriller  Kannada   \n\n                                            description  weighted_average_vote  \n4674  The movie revolves around an idol, Suvarna Sun...                    9.9  \n3589  An investigative officer investigates a sensat...                    9.2  \n1169  Protagonist Drushya (Aryan Gowda) is a popular...                    9.2  \n5109  Gini aka Ganesh, a cab driver meets a passenge...                    9.1  \n1326  Bharatha and Baahubali lead a happy-go-lucky e...                    8.9  \n1284  Coming from two different social spectrum's, t...                    8.8  \n3600  The film is about Venkob Rao (Anant Nag), a mi...                    8.7  \n5083  Ananthu is advocate belonging to an orthodox B...                    8.6  \n4917  In Kasargodu, Kerala is a normal school until ...                    8.6  \n5098  Police constable Divakar finally gets a chance...                    8.4  ",
      "text/html": "<div>\n<style scoped>\n    .dataframe tbody tr th:only-of-type {\n        vertical-align: middle;\n    }\n\n    .dataframe tbody tr th {\n        vertical-align: top;\n    }\n\n    .dataframe thead th {\n        text-align: right;\n    }\n</style>\n<table border=\"1\" class=\"dataframe\">\n  <thead>\n    <tr style=\"text-align: right;\">\n      <th></th>\n      <th>imdb_title_id</th>\n      <th>title</th>\n      <th>genre</th>\n      <th>language</th>\n      <th>description</th>\n      <th>weighted_average_vote</th>\n    </tr>\n  </thead>\n  <tbody>\n    <tr>\n      <th>4674</th>\n      <td>tt1043729</td>\n      <td>Suvarna Sundari(Kannada)</td>\n      <td>Action, Thriller</td>\n      <td>Kannada</td>\n      <td>The movie revolves around an idol, Suvarna Sun...</td>\n      <td>9.9</td>\n    </tr>\n    <tr>\n      <th>3589</th>\n      <td>tt4897596</td>\n      <td>Digbhayam</td>\n      <td>Thriller</td>\n      <td>Kannada</td>\n      <td>An investigative officer investigates a sensat...</td>\n      <td>9.2</td>\n    </tr>\n    <tr>\n      <th>1169</th>\n      <td>tt10867504</td>\n      <td>Fan</td>\n      <td>Drama</td>\n      <td>Kannada</td>\n      <td>Protagonist Drushya (Aryan Gowda) is a popular...</td>\n      <td>9.2</td>\n    </tr>\n    <tr>\n      <th>5109</th>\n      <td>tt9537008</td>\n      <td>Gini Helida Kathe</td>\n      <td>Drama</td>\n      <td>Kannada</td>\n      <td>Gini aka Ganesh, a cab driver meets a passenge...</td>\n      <td>9.1</td>\n    </tr>\n    <tr>\n      <th>1326</th>\n      <td>tt11777460</td>\n      <td>Sri Bharatha Baahubali</td>\n      <td>Comedy</td>\n      <td>Kannada</td>\n      <td>Bharatha and Baahubali lead a happy-go-lucky e...</td>\n      <td>8.9</td>\n    </tr>\n    <tr>\n      <th>1284</th>\n      <td>tt11515380</td>\n      <td>3rd Class</td>\n      <td>Action</td>\n      <td>Kannada</td>\n      <td>Coming from two different social spectrum's, t...</td>\n      <td>8.8</td>\n    </tr>\n    <tr>\n      <th>3600</th>\n      <td>tt4909506</td>\n      <td>Godhi Banna Sadharana Mykattu</td>\n      <td>Drama, Thriller</td>\n      <td>Kannada</td>\n      <td>The film is about Venkob Rao (Anant Nag), a mi...</td>\n      <td>8.7</td>\n    </tr>\n    <tr>\n      <th>5083</th>\n      <td>tt9343826</td>\n      <td>Ananthu V/S Nusrath</td>\n      <td>Comedy, Drama, Family</td>\n      <td>Kannada</td>\n      <td>Ananthu is advocate belonging to an orthodox B...</td>\n      <td>8.6</td>\n    </tr>\n    <tr>\n      <th>4917</th>\n      <td>tt8602654</td>\n      <td>Sarkari. Hi. Pra. Shale Kasaragodu, Koduge: Ra...</td>\n      <td>Drama</td>\n      <td>Kannada</td>\n      <td>In Kasargodu, Kerala is a normal school until ...</td>\n      <td>8.6</td>\n    </tr>\n    <tr>\n      <th>5098</th>\n      <td>tt9430780</td>\n      <td>Bell Bottom</td>\n      <td>Comedy, Thriller</td>\n      <td>Kannada</td>\n      <td>Police constable Divakar finally gets a chance...</td>\n      <td>8.4</td>\n    </tr>\n  </tbody>\n</table>\n</div>"
     },
     "execution_count": 32,
     "metadata": {},
     "output_type": "execute_result"
    }
   ],
   "source": [
    "recommendation_functions.recommendation_genre_description_cosine(\"tt1773441\")[[\"imdb_title_id\", \"title\", \"genre\", \"language\", \"description\", \"weighted_average_vote\"]]"
   ],
   "metadata": {
    "collapsed": false,
    "ExecuteTime": {
     "end_time": "2024-03-22T06:42:57.071970300Z",
     "start_time": "2024-03-22T06:42:32.498249800Z"
    }
   },
   "id": "9211ddeeafbb040b",
   "execution_count": 32
  },
  {
   "cell_type": "code",
   "outputs": [
    {
     "name": "stderr",
     "output_type": "stream",
     "text": [
      "C:\\Users\\Dell\\OneDrive\\Desktop\\DePaul\\MachineLearning\\Project\\project_document\\recommendation_functions.py:203: UserWarning: Boolean Series key will be reindexed to match DataFrame index.\n",
      "  language_movie = language_movie[indian_movies[\"imdb_title_id\"].astype(str).str.contains(\n",
      "C:\\Users\\Dell\\OneDrive\\Desktop\\DePaul\\MachineLearning\\Project\\project_document\\recommendation_functions.py:211: UserWarning: Boolean Series key will be reindexed to match DataFrame index.\n",
      "  language_movie = language_movie[indian_movies[\"imdb_title_id\"].astype(str).str.contains(\n"
     ]
    },
    {
     "data": {
      "text/plain": "     imdb_title_id                title                       genre language  \\\n5083     tt9343826  Ananthu V/S Nusrath       Comedy, Drama, Family  Kannada   \n4742     tt1226531      Praana(Kannada)        Crime, Drama, Horror  Kannada   \n3050     tt3394420  Ulidavaru Kandanthe      Crime, Drama, Thriller  Kannada   \n980      tt0986329         Mungaru Male      Comedy, Music, Romance  Kannada   \n3661     tt5021536         Kendasampige           Romance, Thriller  Kannada   \n4160     tt6284474               Chowka              Drama, Romance  Kannada   \n3643     tt4977540             Aatagara  Mystery, Romance, Thriller  Kannada   \n2914     tt3053796            Neer Dose      Comedy, Drama, Romance  Kannada   \n2142     tt1881010               Milana                     Romance  Kannada   \n3749     tt1793173       Ricky(Kannada)           Romance, Thriller  Kannada   \n\n                                            description  weighted_average_vote  \n5083  Ananthu is advocate belonging to an orthodox B...                    8.6  \n4742  A young woman decides to live a life of solita...                    8.4  \n3050  A journalist sets out to uncover the truth beh...                    8.4  \n980   Preetam falls in love at first sight with Nand...                    8.3  \n3661  When a love story goes awry, two young lovers ...                    8.3  \n4160  The film is the narrative which emerges throug...                    8.2  \n3643  10 strangers set off to a strange land. What h...                    8.0  \n2914  The lives of four individuals who are unlikely...                    8.0  \n2142  Hero is in love with a girl who is forced to m...                    7.9  \n3749  City-bred wildlife conservationist Ricky falls...                    7.8  ",
      "text/html": "<div>\n<style scoped>\n    .dataframe tbody tr th:only-of-type {\n        vertical-align: middle;\n    }\n\n    .dataframe tbody tr th {\n        vertical-align: top;\n    }\n\n    .dataframe thead th {\n        text-align: right;\n    }\n</style>\n<table border=\"1\" class=\"dataframe\">\n  <thead>\n    <tr style=\"text-align: right;\">\n      <th></th>\n      <th>imdb_title_id</th>\n      <th>title</th>\n      <th>genre</th>\n      <th>language</th>\n      <th>description</th>\n      <th>weighted_average_vote</th>\n    </tr>\n  </thead>\n  <tbody>\n    <tr>\n      <th>5083</th>\n      <td>tt9343826</td>\n      <td>Ananthu V/S Nusrath</td>\n      <td>Comedy, Drama, Family</td>\n      <td>Kannada</td>\n      <td>Ananthu is advocate belonging to an orthodox B...</td>\n      <td>8.6</td>\n    </tr>\n    <tr>\n      <th>4742</th>\n      <td>tt1226531</td>\n      <td>Praana(Kannada)</td>\n      <td>Crime, Drama, Horror</td>\n      <td>Kannada</td>\n      <td>A young woman decides to live a life of solita...</td>\n      <td>8.4</td>\n    </tr>\n    <tr>\n      <th>3050</th>\n      <td>tt3394420</td>\n      <td>Ulidavaru Kandanthe</td>\n      <td>Crime, Drama, Thriller</td>\n      <td>Kannada</td>\n      <td>A journalist sets out to uncover the truth beh...</td>\n      <td>8.4</td>\n    </tr>\n    <tr>\n      <th>980</th>\n      <td>tt0986329</td>\n      <td>Mungaru Male</td>\n      <td>Comedy, Music, Romance</td>\n      <td>Kannada</td>\n      <td>Preetam falls in love at first sight with Nand...</td>\n      <td>8.3</td>\n    </tr>\n    <tr>\n      <th>3661</th>\n      <td>tt5021536</td>\n      <td>Kendasampige</td>\n      <td>Romance, Thriller</td>\n      <td>Kannada</td>\n      <td>When a love story goes awry, two young lovers ...</td>\n      <td>8.3</td>\n    </tr>\n    <tr>\n      <th>4160</th>\n      <td>tt6284474</td>\n      <td>Chowka</td>\n      <td>Drama, Romance</td>\n      <td>Kannada</td>\n      <td>The film is the narrative which emerges throug...</td>\n      <td>8.2</td>\n    </tr>\n    <tr>\n      <th>3643</th>\n      <td>tt4977540</td>\n      <td>Aatagara</td>\n      <td>Mystery, Romance, Thriller</td>\n      <td>Kannada</td>\n      <td>10 strangers set off to a strange land. What h...</td>\n      <td>8.0</td>\n    </tr>\n    <tr>\n      <th>2914</th>\n      <td>tt3053796</td>\n      <td>Neer Dose</td>\n      <td>Comedy, Drama, Romance</td>\n      <td>Kannada</td>\n      <td>The lives of four individuals who are unlikely...</td>\n      <td>8.0</td>\n    </tr>\n    <tr>\n      <th>2142</th>\n      <td>tt1881010</td>\n      <td>Milana</td>\n      <td>Romance</td>\n      <td>Kannada</td>\n      <td>Hero is in love with a girl who is forced to m...</td>\n      <td>7.9</td>\n    </tr>\n    <tr>\n      <th>3749</th>\n      <td>tt1793173</td>\n      <td>Ricky(Kannada)</td>\n      <td>Romance, Thriller</td>\n      <td>Kannada</td>\n      <td>City-bred wildlife conservationist Ricky falls...</td>\n      <td>7.8</td>\n    </tr>\n  </tbody>\n</table>\n</div>"
     },
     "execution_count": 33,
     "metadata": {},
     "output_type": "execute_result"
    }
   ],
   "source": [
    "recommendation_functions.recommendation_pearson(\"tt1773441\")[[\"imdb_title_id\", \"title\", \"genre\", \"language\", \"description\", \"weighted_average_vote\"]]"
   ],
   "metadata": {
    "collapsed": false,
    "ExecuteTime": {
     "end_time": "2024-03-22T06:43:18.944417400Z",
     "start_time": "2024-03-22T06:42:57.071970300Z"
    }
   },
   "id": "f53cc6ea71457752",
   "execution_count": 33
  },
  {
   "cell_type": "code",
   "outputs": [
    {
     "name": "stderr",
     "output_type": "stream",
     "text": [
      "C:\\Users\\Dell\\OneDrive\\Desktop\\DePaul\\MachineLearning\\Project\\project_document\\recommendation_functions.py:269: UserWarning: Boolean Series key will be reindexed to match DataFrame index.\n",
      "  language_movie = language_movie[\n"
     ]
    },
    {
     "data": {
      "text/plain": "     imdb_title_id                                              title  \\\n4674     tt1043729                           Suvarna Sundari(Kannada)   \n3589     tt4897596                                          Digbhayam   \n1169    tt10867504                                                Fan   \n5109     tt9537008                                  Gini Helida Kathe   \n1326    tt11777460                             Sri Bharatha Baahubali   \n1284    tt11515380                                          3rd Class   \n3600     tt4909506                      Godhi Banna Sadharana Mykattu   \n5083     tt9343826                                Ananthu V/S Nusrath   \n4917     tt8602654  Sarkari. Hi. Pra. Shale Kasaragodu, Koduge: Ra...   \n5098     tt9430780                                        Bell Bottom   \n\n                      genre language  \\\n4674       Action, Thriller  Kannada   \n3589               Thriller  Kannada   \n1169                  Drama  Kannada   \n5109                  Drama  Kannada   \n1326                 Comedy  Kannada   \n1284                 Action  Kannada   \n3600        Drama, Thriller  Kannada   \n5083  Comedy, Drama, Family  Kannada   \n4917                  Drama  Kannada   \n5098       Comedy, Thriller  Kannada   \n\n                                            description  weighted_average_vote  \n4674  The movie revolves around an idol, Suvarna Sun...                    9.9  \n3589  An investigative officer investigates a sensat...                    9.2  \n1169  Protagonist Drushya (Aryan Gowda) is a popular...                    9.2  \n5109  Gini aka Ganesh, a cab driver meets a passenge...                    9.1  \n1326  Bharatha and Baahubali lead a happy-go-lucky e...                    8.9  \n1284  Coming from two different social spectrum's, t...                    8.8  \n3600  The film is about Venkob Rao (Anant Nag), a mi...                    8.7  \n5083  Ananthu is advocate belonging to an orthodox B...                    8.6  \n4917  In Kasargodu, Kerala is a normal school until ...                    8.6  \n5098  Police constable Divakar finally gets a chance...                    8.4  ",
      "text/html": "<div>\n<style scoped>\n    .dataframe tbody tr th:only-of-type {\n        vertical-align: middle;\n    }\n\n    .dataframe tbody tr th {\n        vertical-align: top;\n    }\n\n    .dataframe thead th {\n        text-align: right;\n    }\n</style>\n<table border=\"1\" class=\"dataframe\">\n  <thead>\n    <tr style=\"text-align: right;\">\n      <th></th>\n      <th>imdb_title_id</th>\n      <th>title</th>\n      <th>genre</th>\n      <th>language</th>\n      <th>description</th>\n      <th>weighted_average_vote</th>\n    </tr>\n  </thead>\n  <tbody>\n    <tr>\n      <th>4674</th>\n      <td>tt1043729</td>\n      <td>Suvarna Sundari(Kannada)</td>\n      <td>Action, Thriller</td>\n      <td>Kannada</td>\n      <td>The movie revolves around an idol, Suvarna Sun...</td>\n      <td>9.9</td>\n    </tr>\n    <tr>\n      <th>3589</th>\n      <td>tt4897596</td>\n      <td>Digbhayam</td>\n      <td>Thriller</td>\n      <td>Kannada</td>\n      <td>An investigative officer investigates a sensat...</td>\n      <td>9.2</td>\n    </tr>\n    <tr>\n      <th>1169</th>\n      <td>tt10867504</td>\n      <td>Fan</td>\n      <td>Drama</td>\n      <td>Kannada</td>\n      <td>Protagonist Drushya (Aryan Gowda) is a popular...</td>\n      <td>9.2</td>\n    </tr>\n    <tr>\n      <th>5109</th>\n      <td>tt9537008</td>\n      <td>Gini Helida Kathe</td>\n      <td>Drama</td>\n      <td>Kannada</td>\n      <td>Gini aka Ganesh, a cab driver meets a passenge...</td>\n      <td>9.1</td>\n    </tr>\n    <tr>\n      <th>1326</th>\n      <td>tt11777460</td>\n      <td>Sri Bharatha Baahubali</td>\n      <td>Comedy</td>\n      <td>Kannada</td>\n      <td>Bharatha and Baahubali lead a happy-go-lucky e...</td>\n      <td>8.9</td>\n    </tr>\n    <tr>\n      <th>1284</th>\n      <td>tt11515380</td>\n      <td>3rd Class</td>\n      <td>Action</td>\n      <td>Kannada</td>\n      <td>Coming from two different social spectrum's, t...</td>\n      <td>8.8</td>\n    </tr>\n    <tr>\n      <th>3600</th>\n      <td>tt4909506</td>\n      <td>Godhi Banna Sadharana Mykattu</td>\n      <td>Drama, Thriller</td>\n      <td>Kannada</td>\n      <td>The film is about Venkob Rao (Anant Nag), a mi...</td>\n      <td>8.7</td>\n    </tr>\n    <tr>\n      <th>5083</th>\n      <td>tt9343826</td>\n      <td>Ananthu V/S Nusrath</td>\n      <td>Comedy, Drama, Family</td>\n      <td>Kannada</td>\n      <td>Ananthu is advocate belonging to an orthodox B...</td>\n      <td>8.6</td>\n    </tr>\n    <tr>\n      <th>4917</th>\n      <td>tt8602654</td>\n      <td>Sarkari. Hi. Pra. Shale Kasaragodu, Koduge: Ra...</td>\n      <td>Drama</td>\n      <td>Kannada</td>\n      <td>In Kasargodu, Kerala is a normal school until ...</td>\n      <td>8.6</td>\n    </tr>\n    <tr>\n      <th>5098</th>\n      <td>tt9430780</td>\n      <td>Bell Bottom</td>\n      <td>Comedy, Thriller</td>\n      <td>Kannada</td>\n      <td>Police constable Divakar finally gets a chance...</td>\n      <td>8.4</td>\n    </tr>\n  </tbody>\n</table>\n</div>"
     },
     "execution_count": 34,
     "metadata": {},
     "output_type": "execute_result"
    }
   ],
   "source": [
    "recommendation_functions.recommendation_genre_description_pearson(\"tt1773441\")[[\"imdb_title_id\", \"title\", \"genre\", \"language\", \"description\", \"weighted_average_vote\"]]"
   ],
   "metadata": {
    "collapsed": false,
    "ExecuteTime": {
     "end_time": "2024-03-22T06:43:41.619147300Z",
     "start_time": "2024-03-22T06:43:18.923473200Z"
    }
   },
   "id": "6819e8e56694129",
   "execution_count": 34
  },
  {
   "cell_type": "code",
   "outputs": [
    {
     "data": {
      "text/plain": "     imdb_title_id             title    original_title  year date_published  \\\n189      tt0319557             Indra             Indra  2002     2002-07-24   \n889      tt0871012  Rama Shama Bhama  Rama Shama Bhama  2005     2005-12-09   \n980      tt0986329      Mungaru Male      Mungaru Male  2006     2006-12-29   \n1738     tt1572311    Tees Maar Khan    Tees Maar Khan  2010     2010-12-24   \n\n                       genre  duration country language        director  ...  \\\n189            Action, Drama       173   India   Telugu        Gopal B.  ...   \n889                   Comedy       180   India  Kannada  Ramesh Aravind  ...   \n980   Comedy, Music, Romance       143   India  Kannada     Yograj Bhat  ...   \n1738           Comedy, Crime       135   India    Hindi      Farah Khan  ...   \n\n     History Biography Family Mystery  Horror  Music War Sport Sci-Fi  \\\n189        0         0      0       0       0      0   0     0      0   \n889        0         0      0       0       0      0   0     0      0   \n980        0         0      0       0       0      1   0     0      0   \n1738       0         0      0       0       0      0   0     0      0   \n\n      Animation  \n189           0  \n889           0  \n980           0  \n1738          0  \n\n[4 rows x 42 columns]",
      "text/html": "<div>\n<style scoped>\n    .dataframe tbody tr th:only-of-type {\n        vertical-align: middle;\n    }\n\n    .dataframe tbody tr th {\n        vertical-align: top;\n    }\n\n    .dataframe thead th {\n        text-align: right;\n    }\n</style>\n<table border=\"1\" class=\"dataframe\">\n  <thead>\n    <tr style=\"text-align: right;\">\n      <th></th>\n      <th>imdb_title_id</th>\n      <th>title</th>\n      <th>original_title</th>\n      <th>year</th>\n      <th>date_published</th>\n      <th>genre</th>\n      <th>duration</th>\n      <th>country</th>\n      <th>language</th>\n      <th>director</th>\n      <th>...</th>\n      <th>History</th>\n      <th>Biography</th>\n      <th>Family</th>\n      <th>Mystery</th>\n      <th>Horror</th>\n      <th>Music</th>\n      <th>War</th>\n      <th>Sport</th>\n      <th>Sci-Fi</th>\n      <th>Animation</th>\n    </tr>\n  </thead>\n  <tbody>\n    <tr>\n      <th>189</th>\n      <td>tt0319557</td>\n      <td>Indra</td>\n      <td>Indra</td>\n      <td>2002</td>\n      <td>2002-07-24</td>\n      <td>Action, Drama</td>\n      <td>173</td>\n      <td>India</td>\n      <td>Telugu</td>\n      <td>Gopal B.</td>\n      <td>...</td>\n      <td>0</td>\n      <td>0</td>\n      <td>0</td>\n      <td>0</td>\n      <td>0</td>\n      <td>0</td>\n      <td>0</td>\n      <td>0</td>\n      <td>0</td>\n      <td>0</td>\n    </tr>\n    <tr>\n      <th>889</th>\n      <td>tt0871012</td>\n      <td>Rama Shama Bhama</td>\n      <td>Rama Shama Bhama</td>\n      <td>2005</td>\n      <td>2005-12-09</td>\n      <td>Comedy</td>\n      <td>180</td>\n      <td>India</td>\n      <td>Kannada</td>\n      <td>Ramesh Aravind</td>\n      <td>...</td>\n      <td>0</td>\n      <td>0</td>\n      <td>0</td>\n      <td>0</td>\n      <td>0</td>\n      <td>0</td>\n      <td>0</td>\n      <td>0</td>\n      <td>0</td>\n      <td>0</td>\n    </tr>\n    <tr>\n      <th>980</th>\n      <td>tt0986329</td>\n      <td>Mungaru Male</td>\n      <td>Mungaru Male</td>\n      <td>2006</td>\n      <td>2006-12-29</td>\n      <td>Comedy, Music, Romance</td>\n      <td>143</td>\n      <td>India</td>\n      <td>Kannada</td>\n      <td>Yograj Bhat</td>\n      <td>...</td>\n      <td>0</td>\n      <td>0</td>\n      <td>0</td>\n      <td>0</td>\n      <td>0</td>\n      <td>1</td>\n      <td>0</td>\n      <td>0</td>\n      <td>0</td>\n      <td>0</td>\n    </tr>\n    <tr>\n      <th>1738</th>\n      <td>tt1572311</td>\n      <td>Tees Maar Khan</td>\n      <td>Tees Maar Khan</td>\n      <td>2010</td>\n      <td>2010-12-24</td>\n      <td>Comedy, Crime</td>\n      <td>135</td>\n      <td>India</td>\n      <td>Hindi</td>\n      <td>Farah Khan</td>\n      <td>...</td>\n      <td>0</td>\n      <td>0</td>\n      <td>0</td>\n      <td>0</td>\n      <td>0</td>\n      <td>0</td>\n      <td>0</td>\n      <td>0</td>\n      <td>0</td>\n      <td>0</td>\n    </tr>\n  </tbody>\n</table>\n<p>4 rows × 42 columns</p>\n</div>"
     },
     "execution_count": 35,
     "metadata": {},
     "output_type": "execute_result"
    }
   ],
   "source": [
    "movies[movies[\"imdb_title_id\"].astype(str).str.contains(\"|\".join([\"tt0871012\", \"tt0986329\", \"tt1572311\", \"tt0319557\"]))]"
   ],
   "metadata": {
    "collapsed": false,
    "ExecuteTime": {
     "end_time": "2024-03-22T06:43:41.730454500Z",
     "start_time": "2024-03-22T06:43:41.633624500Z"
    }
   },
   "id": "9c3eaaac48df9025",
   "execution_count": 35
  },
  {
   "cell_type": "code",
   "outputs": [
    {
     "name": "stderr",
     "output_type": "stream",
     "text": [
      "C:\\Users\\Dell\\OneDrive\\Desktop\\DePaul\\MachineLearning\\Project\\project_document\\recommendation_functions.py:29: UserWarning: Boolean Series key will be reindexed to match DataFrame index.\n",
      "  language_movie = language_movie[indian_movies[\"imdb_title_id\"].astype(str).str.contains(\n",
      "C:\\Users\\Dell\\OneDrive\\Desktop\\DePaul\\MachineLearning\\Project\\project_document\\recommendation_functions.py:37: UserWarning: Boolean Series key will be reindexed to match DataFrame index.\n",
      "  language_movie = language_movie[indian_movies[\"imdb_title_id\"].astype(str).str.contains(\n",
      "C:\\Users\\Dell\\OneDrive\\Desktop\\DePaul\\MachineLearning\\Project\\project_document\\recommendation_functions.py:90: UserWarning: Boolean Series key will be reindexed to match DataFrame index.\n",
      "  language_movie = language_movie[indian_movies[\"imdb_title_id\"].astype(str).str.contains(\n",
      "C:\\Users\\Dell\\OneDrive\\Desktop\\DePaul\\MachineLearning\\Project\\project_document\\recommendation_functions.py:98: UserWarning: Boolean Series key will be reindexed to match DataFrame index.\n",
      "  language_movie = language_movie[indian_movies[\"imdb_title_id\"].astype(str).str.contains(\n",
      "C:\\Users\\Dell\\OneDrive\\Desktop\\DePaul\\MachineLearning\\Project\\project_document\\recommendation_functions.py:90: UserWarning: Boolean Series key will be reindexed to match DataFrame index.\n",
      "  language_movie = language_movie[indian_movies[\"imdb_title_id\"].astype(str).str.contains(\n",
      "C:\\Users\\Dell\\OneDrive\\Desktop\\DePaul\\MachineLearning\\Project\\project_document\\recommendation_functions.py:98: UserWarning: Boolean Series key will be reindexed to match DataFrame index.\n",
      "  language_movie = language_movie[indian_movies[\"imdb_title_id\"].astype(str).str.contains(\n",
      "C:\\Users\\Dell\\OneDrive\\Desktop\\DePaul\\MachineLearning\\Project\\project_document\\recommendation_functions.py:203: UserWarning: Boolean Series key will be reindexed to match DataFrame index.\n",
      "  language_movie = language_movie[indian_movies[\"imdb_title_id\"].astype(str).str.contains(\n",
      "C:\\Users\\Dell\\OneDrive\\Desktop\\DePaul\\MachineLearning\\Project\\project_document\\recommendation_functions.py:211: UserWarning: Boolean Series key will be reindexed to match DataFrame index.\n",
      "  language_movie = language_movie[indian_movies[\"imdb_title_id\"].astype(str).str.contains(\n",
      "C:\\Users\\Dell\\OneDrive\\Desktop\\DePaul\\MachineLearning\\Project\\project_document\\recommendation_functions.py:151: UserWarning: Boolean Series key will be reindexed to match DataFrame index.\n",
      "  language_movie = language_movie[\n",
      "C:\\Users\\Dell\\OneDrive\\Desktop\\DePaul\\MachineLearning\\Project\\project_document\\recommendation_functions.py:269: UserWarning: Boolean Series key will be reindexed to match DataFrame index.\n",
      "  language_movie = language_movie[\n",
      "C:\\Users\\Dell\\OneDrive\\Desktop\\DePaul\\MachineLearning\\Project\\project_document\\recommendation_functions.py:29: UserWarning: Boolean Series key will be reindexed to match DataFrame index.\n",
      "  language_movie = language_movie[indian_movies[\"imdb_title_id\"].astype(str).str.contains(\n",
      "C:\\Users\\Dell\\OneDrive\\Desktop\\DePaul\\MachineLearning\\Project\\project_document\\recommendation_functions.py:37: UserWarning: Boolean Series key will be reindexed to match DataFrame index.\n",
      "  language_movie = language_movie[indian_movies[\"imdb_title_id\"].astype(str).str.contains(\n",
      "C:\\Users\\Dell\\OneDrive\\Desktop\\DePaul\\MachineLearning\\Project\\project_document\\recommendation_functions.py:90: UserWarning: Boolean Series key will be reindexed to match DataFrame index.\n",
      "  language_movie = language_movie[indian_movies[\"imdb_title_id\"].astype(str).str.contains(\n",
      "C:\\Users\\Dell\\OneDrive\\Desktop\\DePaul\\MachineLearning\\Project\\project_document\\recommendation_functions.py:98: UserWarning: Boolean Series key will be reindexed to match DataFrame index.\n",
      "  language_movie = language_movie[indian_movies[\"imdb_title_id\"].astype(str).str.contains(\n",
      "C:\\Users\\Dell\\OneDrive\\Desktop\\DePaul\\MachineLearning\\Project\\project_document\\recommendation_functions.py:90: UserWarning: Boolean Series key will be reindexed to match DataFrame index.\n",
      "  language_movie = language_movie[indian_movies[\"imdb_title_id\"].astype(str).str.contains(\n",
      "C:\\Users\\Dell\\OneDrive\\Desktop\\DePaul\\MachineLearning\\Project\\project_document\\recommendation_functions.py:98: UserWarning: Boolean Series key will be reindexed to match DataFrame index.\n",
      "  language_movie = language_movie[indian_movies[\"imdb_title_id\"].astype(str).str.contains(\n",
      "C:\\Users\\Dell\\OneDrive\\Desktop\\DePaul\\MachineLearning\\Project\\project_document\\recommendation_functions.py:203: UserWarning: Boolean Series key will be reindexed to match DataFrame index.\n",
      "  language_movie = language_movie[indian_movies[\"imdb_title_id\"].astype(str).str.contains(\n",
      "C:\\Users\\Dell\\OneDrive\\Desktop\\DePaul\\MachineLearning\\Project\\project_document\\recommendation_functions.py:211: UserWarning: Boolean Series key will be reindexed to match DataFrame index.\n",
      "  language_movie = language_movie[indian_movies[\"imdb_title_id\"].astype(str).str.contains(\n",
      "C:\\Users\\Dell\\OneDrive\\Desktop\\DePaul\\MachineLearning\\Project\\project_document\\recommendation_functions.py:151: UserWarning: Boolean Series key will be reindexed to match DataFrame index.\n",
      "  language_movie = language_movie[\n",
      "C:\\Users\\Dell\\OneDrive\\Desktop\\DePaul\\MachineLearning\\Project\\project_document\\recommendation_functions.py:269: UserWarning: Boolean Series key will be reindexed to match DataFrame index.\n",
      "  language_movie = language_movie[\n",
      "C:\\Users\\Dell\\OneDrive\\Desktop\\DePaul\\MachineLearning\\Project\\project_document\\recommendation_functions.py:29: UserWarning: Boolean Series key will be reindexed to match DataFrame index.\n",
      "  language_movie = language_movie[indian_movies[\"imdb_title_id\"].astype(str).str.contains(\n",
      "C:\\Users\\Dell\\OneDrive\\Desktop\\DePaul\\MachineLearning\\Project\\project_document\\recommendation_functions.py:37: UserWarning: Boolean Series key will be reindexed to match DataFrame index.\n",
      "  language_movie = language_movie[indian_movies[\"imdb_title_id\"].astype(str).str.contains(\n",
      "C:\\Users\\Dell\\OneDrive\\Desktop\\DePaul\\MachineLearning\\Project\\project_document\\recommendation_functions.py:90: UserWarning: Boolean Series key will be reindexed to match DataFrame index.\n",
      "  language_movie = language_movie[indian_movies[\"imdb_title_id\"].astype(str).str.contains(\n",
      "C:\\Users\\Dell\\OneDrive\\Desktop\\DePaul\\MachineLearning\\Project\\project_document\\recommendation_functions.py:98: UserWarning: Boolean Series key will be reindexed to match DataFrame index.\n",
      "  language_movie = language_movie[indian_movies[\"imdb_title_id\"].astype(str).str.contains(\n",
      "C:\\Users\\Dell\\OneDrive\\Desktop\\DePaul\\MachineLearning\\Project\\project_document\\recommendation_functions.py:90: UserWarning: Boolean Series key will be reindexed to match DataFrame index.\n",
      "  language_movie = language_movie[indian_movies[\"imdb_title_id\"].astype(str).str.contains(\n",
      "C:\\Users\\Dell\\OneDrive\\Desktop\\DePaul\\MachineLearning\\Project\\project_document\\recommendation_functions.py:98: UserWarning: Boolean Series key will be reindexed to match DataFrame index.\n",
      "  language_movie = language_movie[indian_movies[\"imdb_title_id\"].astype(str).str.contains(\n",
      "C:\\Users\\Dell\\OneDrive\\Desktop\\DePaul\\MachineLearning\\Project\\project_document\\recommendation_functions.py:203: UserWarning: Boolean Series key will be reindexed to match DataFrame index.\n",
      "  language_movie = language_movie[indian_movies[\"imdb_title_id\"].astype(str).str.contains(\n",
      "C:\\Users\\Dell\\OneDrive\\Desktop\\DePaul\\MachineLearning\\Project\\project_document\\recommendation_functions.py:211: UserWarning: Boolean Series key will be reindexed to match DataFrame index.\n",
      "  language_movie = language_movie[indian_movies[\"imdb_title_id\"].astype(str).str.contains(\n",
      "C:\\Users\\Dell\\OneDrive\\Desktop\\DePaul\\MachineLearning\\Project\\project_document\\recommendation_functions.py:151: UserWarning: Boolean Series key will be reindexed to match DataFrame index.\n",
      "  language_movie = language_movie[\n",
      "C:\\Users\\Dell\\OneDrive\\Desktop\\DePaul\\MachineLearning\\Project\\project_document\\recommendation_functions.py:269: UserWarning: Boolean Series key will be reindexed to match DataFrame index.\n",
      "  language_movie = language_movie[\n",
      "C:\\Users\\Dell\\OneDrive\\Desktop\\DePaul\\MachineLearning\\Project\\project_document\\recommendation_functions.py:29: UserWarning: Boolean Series key will be reindexed to match DataFrame index.\n",
      "  language_movie = language_movie[indian_movies[\"imdb_title_id\"].astype(str).str.contains(\n",
      "C:\\Users\\Dell\\OneDrive\\Desktop\\DePaul\\MachineLearning\\Project\\project_document\\recommendation_functions.py:37: UserWarning: Boolean Series key will be reindexed to match DataFrame index.\n",
      "  language_movie = language_movie[indian_movies[\"imdb_title_id\"].astype(str).str.contains(\n",
      "C:\\Users\\Dell\\OneDrive\\Desktop\\DePaul\\MachineLearning\\Project\\project_document\\recommendation_functions.py:90: UserWarning: Boolean Series key will be reindexed to match DataFrame index.\n",
      "  language_movie = language_movie[indian_movies[\"imdb_title_id\"].astype(str).str.contains(\n",
      "C:\\Users\\Dell\\OneDrive\\Desktop\\DePaul\\MachineLearning\\Project\\project_document\\recommendation_functions.py:98: UserWarning: Boolean Series key will be reindexed to match DataFrame index.\n",
      "  language_movie = language_movie[indian_movies[\"imdb_title_id\"].astype(str).str.contains(\n",
      "C:\\Users\\Dell\\OneDrive\\Desktop\\DePaul\\MachineLearning\\Project\\project_document\\recommendation_functions.py:90: UserWarning: Boolean Series key will be reindexed to match DataFrame index.\n",
      "  language_movie = language_movie[indian_movies[\"imdb_title_id\"].astype(str).str.contains(\n",
      "C:\\Users\\Dell\\OneDrive\\Desktop\\DePaul\\MachineLearning\\Project\\project_document\\recommendation_functions.py:98: UserWarning: Boolean Series key will be reindexed to match DataFrame index.\n",
      "  language_movie = language_movie[indian_movies[\"imdb_title_id\"].astype(str).str.contains(\n",
      "C:\\Users\\Dell\\OneDrive\\Desktop\\DePaul\\MachineLearning\\Project\\project_document\\recommendation_functions.py:203: UserWarning: Boolean Series key will be reindexed to match DataFrame index.\n",
      "  language_movie = language_movie[indian_movies[\"imdb_title_id\"].astype(str).str.contains(\n",
      "C:\\Users\\Dell\\OneDrive\\Desktop\\DePaul\\MachineLearning\\Project\\project_document\\recommendation_functions.py:211: UserWarning: Boolean Series key will be reindexed to match DataFrame index.\n",
      "  language_movie = language_movie[indian_movies[\"imdb_title_id\"].astype(str).str.contains(\n",
      "C:\\Users\\Dell\\OneDrive\\Desktop\\DePaul\\MachineLearning\\Project\\project_document\\recommendation_functions.py:151: UserWarning: Boolean Series key will be reindexed to match DataFrame index.\n",
      "  language_movie = language_movie[\n",
      "C:\\Users\\Dell\\OneDrive\\Desktop\\DePaul\\MachineLearning\\Project\\project_document\\recommendation_functions.py:269: UserWarning: Boolean Series key will be reindexed to match DataFrame index.\n",
      "  language_movie = language_movie[\n"
     ]
    },
    {
     "data": {
      "text/plain": "     imdb_title_id                      title             original_title  \\\n1284    tt11515380                  3rd Class                  3rd Class   \n5083     tt9343826        Ananthu V/S Nusrath        Ananthu V/S Nusrath   \n1326    tt11777460     Sri Bharatha Baahubali     Sri Bharatha Baahubali   \n1058    tt10324144                 Article 15                 Article 15   \n5148     tt9680166  Yeh Suhaagraat Impossible  Yeh Suhaagraat Impossible   \n4524     tt7391996          C/o Kancharapalem          C/o Kancharapalem   \n1480    tt12839816     Asalu Em Jarigindhante     Asalu Em Jarigindhante   \n\n      year date_published                  genre  duration country language  \\\n1284  2020     2020-02-07                 Action       130   India  Kannada   \n5083  2018     2018-12-28  Comedy, Drama, Family       149   India  Kannada   \n1326  2020     2020-01-17                 Comedy       164   India  Kannada   \n1058  2019     2019-06-28  Crime, Drama, Mystery       130   India    Hindi   \n5148  2019     2019-03-08                 Comedy        92   India    Hindi   \n4524  2018     2018-09-07                  Drama       152   India   Telugu   \n1480  2020     2020-08-02                  Drama       110   India   Telugu   \n\n                director  ... History Biography Family Mystery  Horror  Music  \\\n1284                 NaN  ...       0         0      0       0       0      0   \n5083  Sudheer Shanbhogue  ...       0         0      1       0       0      0   \n1326      Manju Mandavya  ...       0         0      0       0       0      0   \n1058       Anubhav Sinha  ...       0         0      0       1       0      0   \n5148      Abhinav Thakur  ...       0         0      0       0       0      0   \n4524      Maha Venkatesh  ...       0         0      0       0       0      0   \n1480    Srinivas Bandari  ...       0         0      0       0       0      0   \n\n     War Sport Sci-Fi  Animation  \n1284   0     0      0          0  \n5083   0     0      0          0  \n1326   0     0      0          0  \n1058   0     0      0          0  \n5148   0     0      0          0  \n4524   0     0      0          0  \n1480   0     0      0          0  \n\n[7 rows x 42 columns]",
      "text/html": "<div>\n<style scoped>\n    .dataframe tbody tr th:only-of-type {\n        vertical-align: middle;\n    }\n\n    .dataframe tbody tr th {\n        vertical-align: top;\n    }\n\n    .dataframe thead th {\n        text-align: right;\n    }\n</style>\n<table border=\"1\" class=\"dataframe\">\n  <thead>\n    <tr style=\"text-align: right;\">\n      <th></th>\n      <th>imdb_title_id</th>\n      <th>title</th>\n      <th>original_title</th>\n      <th>year</th>\n      <th>date_published</th>\n      <th>genre</th>\n      <th>duration</th>\n      <th>country</th>\n      <th>language</th>\n      <th>director</th>\n      <th>...</th>\n      <th>History</th>\n      <th>Biography</th>\n      <th>Family</th>\n      <th>Mystery</th>\n      <th>Horror</th>\n      <th>Music</th>\n      <th>War</th>\n      <th>Sport</th>\n      <th>Sci-Fi</th>\n      <th>Animation</th>\n    </tr>\n  </thead>\n  <tbody>\n    <tr>\n      <th>1284</th>\n      <td>tt11515380</td>\n      <td>3rd Class</td>\n      <td>3rd Class</td>\n      <td>2020</td>\n      <td>2020-02-07</td>\n      <td>Action</td>\n      <td>130</td>\n      <td>India</td>\n      <td>Kannada</td>\n      <td>NaN</td>\n      <td>...</td>\n      <td>0</td>\n      <td>0</td>\n      <td>0</td>\n      <td>0</td>\n      <td>0</td>\n      <td>0</td>\n      <td>0</td>\n      <td>0</td>\n      <td>0</td>\n      <td>0</td>\n    </tr>\n    <tr>\n      <th>5083</th>\n      <td>tt9343826</td>\n      <td>Ananthu V/S Nusrath</td>\n      <td>Ananthu V/S Nusrath</td>\n      <td>2018</td>\n      <td>2018-12-28</td>\n      <td>Comedy, Drama, Family</td>\n      <td>149</td>\n      <td>India</td>\n      <td>Kannada</td>\n      <td>Sudheer Shanbhogue</td>\n      <td>...</td>\n      <td>0</td>\n      <td>0</td>\n      <td>1</td>\n      <td>0</td>\n      <td>0</td>\n      <td>0</td>\n      <td>0</td>\n      <td>0</td>\n      <td>0</td>\n      <td>0</td>\n    </tr>\n    <tr>\n      <th>1326</th>\n      <td>tt11777460</td>\n      <td>Sri Bharatha Baahubali</td>\n      <td>Sri Bharatha Baahubali</td>\n      <td>2020</td>\n      <td>2020-01-17</td>\n      <td>Comedy</td>\n      <td>164</td>\n      <td>India</td>\n      <td>Kannada</td>\n      <td>Manju Mandavya</td>\n      <td>...</td>\n      <td>0</td>\n      <td>0</td>\n      <td>0</td>\n      <td>0</td>\n      <td>0</td>\n      <td>0</td>\n      <td>0</td>\n      <td>0</td>\n      <td>0</td>\n      <td>0</td>\n    </tr>\n    <tr>\n      <th>1058</th>\n      <td>tt10324144</td>\n      <td>Article 15</td>\n      <td>Article 15</td>\n      <td>2019</td>\n      <td>2019-06-28</td>\n      <td>Crime, Drama, Mystery</td>\n      <td>130</td>\n      <td>India</td>\n      <td>Hindi</td>\n      <td>Anubhav Sinha</td>\n      <td>...</td>\n      <td>0</td>\n      <td>0</td>\n      <td>0</td>\n      <td>1</td>\n      <td>0</td>\n      <td>0</td>\n      <td>0</td>\n      <td>0</td>\n      <td>0</td>\n      <td>0</td>\n    </tr>\n    <tr>\n      <th>5148</th>\n      <td>tt9680166</td>\n      <td>Yeh Suhaagraat Impossible</td>\n      <td>Yeh Suhaagraat Impossible</td>\n      <td>2019</td>\n      <td>2019-03-08</td>\n      <td>Comedy</td>\n      <td>92</td>\n      <td>India</td>\n      <td>Hindi</td>\n      <td>Abhinav Thakur</td>\n      <td>...</td>\n      <td>0</td>\n      <td>0</td>\n      <td>0</td>\n      <td>0</td>\n      <td>0</td>\n      <td>0</td>\n      <td>0</td>\n      <td>0</td>\n      <td>0</td>\n      <td>0</td>\n    </tr>\n    <tr>\n      <th>4524</th>\n      <td>tt7391996</td>\n      <td>C/o Kancharapalem</td>\n      <td>C/o Kancharapalem</td>\n      <td>2018</td>\n      <td>2018-09-07</td>\n      <td>Drama</td>\n      <td>152</td>\n      <td>India</td>\n      <td>Telugu</td>\n      <td>Maha Venkatesh</td>\n      <td>...</td>\n      <td>0</td>\n      <td>0</td>\n      <td>0</td>\n      <td>0</td>\n      <td>0</td>\n      <td>0</td>\n      <td>0</td>\n      <td>0</td>\n      <td>0</td>\n      <td>0</td>\n    </tr>\n    <tr>\n      <th>1480</th>\n      <td>tt12839816</td>\n      <td>Asalu Em Jarigindhante</td>\n      <td>Asalu Em Jarigindhante</td>\n      <td>2020</td>\n      <td>2020-08-02</td>\n      <td>Drama</td>\n      <td>110</td>\n      <td>India</td>\n      <td>Telugu</td>\n      <td>Srinivas Bandari</td>\n      <td>...</td>\n      <td>0</td>\n      <td>0</td>\n      <td>0</td>\n      <td>0</td>\n      <td>0</td>\n      <td>0</td>\n      <td>0</td>\n      <td>0</td>\n      <td>0</td>\n      <td>0</td>\n    </tr>\n  </tbody>\n</table>\n<p>7 rows × 42 columns</p>\n</div>"
     },
     "execution_count": 36,
     "metadata": {},
     "output_type": "execute_result"
    }
   ],
   "source": [
    "recommendation_functions.recommendation_with_list_of_movies([\"tt0871012\", \"tt0986329\", \"tt1572311\", \"tt0319557\"])"
   ],
   "metadata": {
    "collapsed": false,
    "ExecuteTime": {
     "end_time": "2024-03-22T06:52:26.316006400Z",
     "start_time": "2024-03-22T06:43:41.698027100Z"
    }
   },
   "id": "63881d72169f4892",
   "execution_count": 36
  },
  {
   "cell_type": "code",
   "outputs": [
    {
     "name": "stderr",
     "output_type": "stream",
     "text": [
      "C:\\Users\\Dell\\OneDrive\\Desktop\\DePaul\\MachineLearning\\Project\\project_document\\recommendation_functions.py:29: UserWarning: Boolean Series key will be reindexed to match DataFrame index.\n",
      "  language_movie = language_movie[indian_movies[\"imdb_title_id\"].astype(str).str.contains(\n",
      "C:\\Users\\Dell\\OneDrive\\Desktop\\DePaul\\MachineLearning\\Project\\project_document\\recommendation_functions.py:37: UserWarning: Boolean Series key will be reindexed to match DataFrame index.\n",
      "  language_movie = language_movie[indian_movies[\"imdb_title_id\"].astype(str).str.contains(\n",
      "C:\\Users\\Dell\\OneDrive\\Desktop\\DePaul\\MachineLearning\\Project\\project_document\\recommendation_functions.py:90: UserWarning: Boolean Series key will be reindexed to match DataFrame index.\n",
      "  language_movie = language_movie[indian_movies[\"imdb_title_id\"].astype(str).str.contains(\n",
      "C:\\Users\\Dell\\OneDrive\\Desktop\\DePaul\\MachineLearning\\Project\\project_document\\recommendation_functions.py:98: UserWarning: Boolean Series key will be reindexed to match DataFrame index.\n",
      "  language_movie = language_movie[indian_movies[\"imdb_title_id\"].astype(str).str.contains(\n",
      "C:\\Users\\Dell\\OneDrive\\Desktop\\DePaul\\MachineLearning\\Project\\project_document\\recommendation_functions.py:90: UserWarning: Boolean Series key will be reindexed to match DataFrame index.\n",
      "  language_movie = language_movie[indian_movies[\"imdb_title_id\"].astype(str).str.contains(\n",
      "C:\\Users\\Dell\\OneDrive\\Desktop\\DePaul\\MachineLearning\\Project\\project_document\\recommendation_functions.py:98: UserWarning: Boolean Series key will be reindexed to match DataFrame index.\n",
      "  language_movie = language_movie[indian_movies[\"imdb_title_id\"].astype(str).str.contains(\n",
      "C:\\Users\\Dell\\OneDrive\\Desktop\\DePaul\\MachineLearning\\Project\\project_document\\recommendation_functions.py:203: UserWarning: Boolean Series key will be reindexed to match DataFrame index.\n",
      "  language_movie = language_movie[indian_movies[\"imdb_title_id\"].astype(str).str.contains(\n",
      "C:\\Users\\Dell\\OneDrive\\Desktop\\DePaul\\MachineLearning\\Project\\project_document\\recommendation_functions.py:211: UserWarning: Boolean Series key will be reindexed to match DataFrame index.\n",
      "  language_movie = language_movie[indian_movies[\"imdb_title_id\"].astype(str).str.contains(\n",
      "C:\\Users\\Dell\\OneDrive\\Desktop\\DePaul\\MachineLearning\\Project\\project_document\\recommendation_functions.py:151: UserWarning: Boolean Series key will be reindexed to match DataFrame index.\n",
      "  language_movie = language_movie[\n",
      "C:\\Users\\Dell\\OneDrive\\Desktop\\DePaul\\MachineLearning\\Project\\project_document\\recommendation_functions.py:269: UserWarning: Boolean Series key will be reindexed to match DataFrame index.\n",
      "  language_movie = language_movie[\n"
     ]
    },
    {
     "data": {
      "text/plain": "     imdb_title_id                                              title  \\\n980      tt0986329                                       Mungaru Male   \n1169    tt10867504                                                Fan   \n1284    tt11515380                                          3rd Class   \n3589     tt4897596                                          Digbhayam   \n5109     tt9537008                                  Gini Helida Kathe   \n5083     tt9343826                                Ananthu V/S Nusrath   \n4917     tt8602654  Sarkari. Hi. Pra. Shale Kasaragodu, Koduge: Ra...   \n\n                       genre language  \\\n980   Comedy, Music, Romance  Kannada   \n1169                   Drama  Kannada   \n1284                  Action  Kannada   \n3589                Thriller  Kannada   \n5109                   Drama  Kannada   \n5083   Comedy, Drama, Family  Kannada   \n4917                   Drama  Kannada   \n\n                                            description  weighted_average_vote  \n980   Preetam falls in love at first sight with Nand...                    8.3  \n1169  Protagonist Drushya (Aryan Gowda) is a popular...                    9.2  \n1284  Coming from two different social spectrum's, t...                    8.8  \n3589  An investigative officer investigates a sensat...                    9.2  \n5109  Gini aka Ganesh, a cab driver meets a passenge...                    9.1  \n5083  Ananthu is advocate belonging to an orthodox B...                    8.6  \n4917  In Kasargodu, Kerala is a normal school until ...                    8.6  ",
      "text/html": "<div>\n<style scoped>\n    .dataframe tbody tr th:only-of-type {\n        vertical-align: middle;\n    }\n\n    .dataframe tbody tr th {\n        vertical-align: top;\n    }\n\n    .dataframe thead th {\n        text-align: right;\n    }\n</style>\n<table border=\"1\" class=\"dataframe\">\n  <thead>\n    <tr style=\"text-align: right;\">\n      <th></th>\n      <th>imdb_title_id</th>\n      <th>title</th>\n      <th>genre</th>\n      <th>language</th>\n      <th>description</th>\n      <th>weighted_average_vote</th>\n    </tr>\n  </thead>\n  <tbody>\n    <tr>\n      <th>980</th>\n      <td>tt0986329</td>\n      <td>Mungaru Male</td>\n      <td>Comedy, Music, Romance</td>\n      <td>Kannada</td>\n      <td>Preetam falls in love at first sight with Nand...</td>\n      <td>8.3</td>\n    </tr>\n    <tr>\n      <th>1169</th>\n      <td>tt10867504</td>\n      <td>Fan</td>\n      <td>Drama</td>\n      <td>Kannada</td>\n      <td>Protagonist Drushya (Aryan Gowda) is a popular...</td>\n      <td>9.2</td>\n    </tr>\n    <tr>\n      <th>1284</th>\n      <td>tt11515380</td>\n      <td>3rd Class</td>\n      <td>Action</td>\n      <td>Kannada</td>\n      <td>Coming from two different social spectrum's, t...</td>\n      <td>8.8</td>\n    </tr>\n    <tr>\n      <th>3589</th>\n      <td>tt4897596</td>\n      <td>Digbhayam</td>\n      <td>Thriller</td>\n      <td>Kannada</td>\n      <td>An investigative officer investigates a sensat...</td>\n      <td>9.2</td>\n    </tr>\n    <tr>\n      <th>5109</th>\n      <td>tt9537008</td>\n      <td>Gini Helida Kathe</td>\n      <td>Drama</td>\n      <td>Kannada</td>\n      <td>Gini aka Ganesh, a cab driver meets a passenge...</td>\n      <td>9.1</td>\n    </tr>\n    <tr>\n      <th>5083</th>\n      <td>tt9343826</td>\n      <td>Ananthu V/S Nusrath</td>\n      <td>Comedy, Drama, Family</td>\n      <td>Kannada</td>\n      <td>Ananthu is advocate belonging to an orthodox B...</td>\n      <td>8.6</td>\n    </tr>\n    <tr>\n      <th>4917</th>\n      <td>tt8602654</td>\n      <td>Sarkari. Hi. Pra. Shale Kasaragodu, Koduge: Ra...</td>\n      <td>Drama</td>\n      <td>Kannada</td>\n      <td>In Kasargodu, Kerala is a normal school until ...</td>\n      <td>8.6</td>\n    </tr>\n  </tbody>\n</table>\n</div>"
     },
     "execution_count": 37,
     "metadata": {},
     "output_type": "execute_result"
    }
   ],
   "source": [
    "recommendation_functions.recommendation_of_movie(\"tt0871012\")[[\"imdb_title_id\", \"title\", \"genre\", \"language\", \"description\", \"weighted_average_vote\"]]"
   ],
   "metadata": {
    "collapsed": false,
    "ExecuteTime": {
     "end_time": "2024-03-22T06:54:38.439672700Z",
     "start_time": "2024-03-22T06:52:26.147419500Z"
    }
   },
   "id": "69ef65f1a309532e",
   "execution_count": 37
  },
  {
   "cell_type": "code",
   "outputs": [],
   "source": [],
   "metadata": {
    "collapsed": false,
    "ExecuteTime": {
     "end_time": "2024-03-22T06:54:38.574568300Z",
     "start_time": "2024-03-22T06:54:38.438675900Z"
    }
   },
   "id": "9bcdc6eb7e3fc85b",
   "execution_count": 37
  }
 ],
 "metadata": {
  "kernelspec": {
   "display_name": "Python 3",
   "language": "python",
   "name": "python3"
  },
  "language_info": {
   "codemirror_mode": {
    "name": "ipython",
    "version": 2
   },
   "file_extension": ".py",
   "mimetype": "text/x-python",
   "name": "python",
   "nbconvert_exporter": "python",
   "pygments_lexer": "ipython2",
   "version": "2.7.6"
  }
 },
 "nbformat": 4,
 "nbformat_minor": 5
}
